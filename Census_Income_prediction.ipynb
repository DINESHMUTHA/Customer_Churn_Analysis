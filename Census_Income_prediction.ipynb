{
 "cells": [
  {
   "cell_type": "markdown",
   "id": "36579692",
   "metadata": {},
   "source": [
    "# Census Income"
   ]
  },
  {
   "cell_type": "markdown",
   "id": "55f3784c",
   "metadata": {},
   "source": [
    "# Problem Statement:\n",
    "\n",
    "This data was extracted from the 1994 Census bureau database by Ronny Kohavi and Barry Becker (Data Mining and Visualization, Silicon Graphics). A set of reasonably clean records was extracted using the following conditions: ((AAGE>16) && (AGI>100) && (AFNLWGT>1) && (HRSWK>0)).\n",
    "\n",
    "The prediction task is to determine whether a person makes over $50K a year.\n",
    "\n",
    "Description of fnlwgt (final weight)\n",
    "\n",
    "The weights on the Current Population Survey (CPS) files are controlled to independent estimates of the civilian non-institutional population of the US. These are prepared monthly for us by Population Division here at the Census Bureau. We use 3 sets of controls. These are:\n",
    "\n",
    "A single cell estimate of the population 16+ for each state. Controls for Hispanic Origin by age and sex.\n",
    "Controls by Race, age and sex.\n",
    "\n",
    "We use all three sets of controls in our weighting program and \"rake\" through them 6 times so that by the end we come back to all the controls we used. The term estimate refers to population totals derived from CPS by creating \"weighted tallies\" of any specified socio-economic characteristics of the population. People with similar demographic characteristics should have similar weights. There is one important caveat to remember about this statement. That is that since the CPS sample is actually a collection of 51 state samples, each with its own probability of selection, the statement only applies within state."
   ]
  },
  {
   "cell_type": "markdown",
   "id": "10a86e5e",
   "metadata": {},
   "source": [
    "# Importing necessary libraries"
   ]
  },
  {
   "cell_type": "code",
   "execution_count": 177,
   "id": "3b4746a4",
   "metadata": {},
   "outputs": [],
   "source": [
    "import pandas as pd\n",
    "import numpy as np\n",
    "import matplotlib.pyplot as plt\n",
    "import seaborn as sns\n",
    "import os\n",
    "import scipy as stats\n",
    "\n",
    "from sklearn.preprocessing import LabelEncoder\n",
    "from scipy.stats import zscore\n",
    "from sklearn.preprocessing import PowerTransformer\n",
    "from sklearn.preprocessing import StandardScaler\n",
    "from statsmodels.stats.outliers_influence import variance_inflation_factor\n",
    "from sklearn.model_selection import train_test_split\n",
    "from sklearn.metrics import mean_absolute_error\n",
    "from sklearn.metrics import mean_squared_error\n",
    "from sklearn.metrics import r2_score\n",
    "from imblearn.over_sampling import SMOTE\n",
    "\n",
    "from sklearn.linear_model import LogisticRegression\n",
    "from sklearn.tree import DecisionTreeClassifier\n",
    "from sklearn.ensemble import RandomForestClassifier\n",
    "from sklearn.svm import SVC\n",
    "from sklearn.neighbors import KNeighborsClassifier as KNN\n",
    "from sklearn.ensemble import GradientBoostingClassifier, BaggingClassifier\n",
    "from sklearn.metrics import classification_report, confusion_matrix, roc_curve, accuracy_score\n",
    "from sklearn.model_selection import cross_val_score\n",
    "from sklearn.model_selection import GridSearchCV\n",
    "from sklearn.metrics import plot_roc_curve \n",
    "\n",
    "%matplotlib inline\n",
    "import warnings\n",
    "warnings.filterwarnings('ignore')"
   ]
  },
  {
   "cell_type": "markdown",
   "id": "fb0ce8c2",
   "metadata": {},
   "source": [
    "# Importing the DataSet"
   ]
  },
  {
   "cell_type": "code",
   "execution_count": 101,
   "id": "e17a223e",
   "metadata": {},
   "outputs": [],
   "source": [
    "df=pd.read_csv(r'census_income.csv')"
   ]
  },
  {
   "cell_type": "code",
   "execution_count": 102,
   "id": "3c02a32b",
   "metadata": {},
   "outputs": [
    {
     "data": {
      "text/html": [
       "<div>\n",
       "<style scoped>\n",
       "    .dataframe tbody tr th:only-of-type {\n",
       "        vertical-align: middle;\n",
       "    }\n",
       "\n",
       "    .dataframe tbody tr th {\n",
       "        vertical-align: top;\n",
       "    }\n",
       "\n",
       "    .dataframe thead th {\n",
       "        text-align: right;\n",
       "    }\n",
       "</style>\n",
       "<table border=\"1\" class=\"dataframe\">\n",
       "  <thead>\n",
       "    <tr style=\"text-align: right;\">\n",
       "      <th></th>\n",
       "      <th>Age</th>\n",
       "      <th>Workclass</th>\n",
       "      <th>Fnlwgt</th>\n",
       "      <th>Education</th>\n",
       "      <th>Education_num</th>\n",
       "      <th>Marital_status</th>\n",
       "      <th>Occupation</th>\n",
       "      <th>Relationship</th>\n",
       "      <th>Race</th>\n",
       "      <th>Sex</th>\n",
       "      <th>Capital_gain</th>\n",
       "      <th>Capital_loss</th>\n",
       "      <th>Hours_per_week</th>\n",
       "      <th>Native_country</th>\n",
       "      <th>Income</th>\n",
       "    </tr>\n",
       "  </thead>\n",
       "  <tbody>\n",
       "    <tr>\n",
       "      <th>0</th>\n",
       "      <td>50</td>\n",
       "      <td>Self-emp-not-inc</td>\n",
       "      <td>83311</td>\n",
       "      <td>Bachelors</td>\n",
       "      <td>13</td>\n",
       "      <td>Married-civ-spouse</td>\n",
       "      <td>Exec-managerial</td>\n",
       "      <td>Husband</td>\n",
       "      <td>White</td>\n",
       "      <td>Male</td>\n",
       "      <td>0</td>\n",
       "      <td>0</td>\n",
       "      <td>13</td>\n",
       "      <td>United-States</td>\n",
       "      <td>&lt;=50K</td>\n",
       "    </tr>\n",
       "    <tr>\n",
       "      <th>1</th>\n",
       "      <td>38</td>\n",
       "      <td>Private</td>\n",
       "      <td>215646</td>\n",
       "      <td>HS-grad</td>\n",
       "      <td>9</td>\n",
       "      <td>Divorced</td>\n",
       "      <td>Handlers-cleaners</td>\n",
       "      <td>Not-in-family</td>\n",
       "      <td>White</td>\n",
       "      <td>Male</td>\n",
       "      <td>0</td>\n",
       "      <td>0</td>\n",
       "      <td>40</td>\n",
       "      <td>United-States</td>\n",
       "      <td>&lt;=50K</td>\n",
       "    </tr>\n",
       "    <tr>\n",
       "      <th>2</th>\n",
       "      <td>53</td>\n",
       "      <td>Private</td>\n",
       "      <td>234721</td>\n",
       "      <td>11th</td>\n",
       "      <td>7</td>\n",
       "      <td>Married-civ-spouse</td>\n",
       "      <td>Handlers-cleaners</td>\n",
       "      <td>Husband</td>\n",
       "      <td>Black</td>\n",
       "      <td>Male</td>\n",
       "      <td>0</td>\n",
       "      <td>0</td>\n",
       "      <td>40</td>\n",
       "      <td>United-States</td>\n",
       "      <td>&lt;=50K</td>\n",
       "    </tr>\n",
       "    <tr>\n",
       "      <th>3</th>\n",
       "      <td>28</td>\n",
       "      <td>Private</td>\n",
       "      <td>338409</td>\n",
       "      <td>Bachelors</td>\n",
       "      <td>13</td>\n",
       "      <td>Married-civ-spouse</td>\n",
       "      <td>Prof-specialty</td>\n",
       "      <td>Wife</td>\n",
       "      <td>Black</td>\n",
       "      <td>Female</td>\n",
       "      <td>0</td>\n",
       "      <td>0</td>\n",
       "      <td>40</td>\n",
       "      <td>Cuba</td>\n",
       "      <td>&lt;=50K</td>\n",
       "    </tr>\n",
       "    <tr>\n",
       "      <th>4</th>\n",
       "      <td>37</td>\n",
       "      <td>Private</td>\n",
       "      <td>284582</td>\n",
       "      <td>Masters</td>\n",
       "      <td>14</td>\n",
       "      <td>Married-civ-spouse</td>\n",
       "      <td>Exec-managerial</td>\n",
       "      <td>Wife</td>\n",
       "      <td>White</td>\n",
       "      <td>Female</td>\n",
       "      <td>0</td>\n",
       "      <td>0</td>\n",
       "      <td>40</td>\n",
       "      <td>United-States</td>\n",
       "      <td>&lt;=50K</td>\n",
       "    </tr>\n",
       "  </tbody>\n",
       "</table>\n",
       "</div>"
      ],
      "text/plain": [
       "   Age          Workclass  Fnlwgt   Education  Education_num  \\\n",
       "0   50   Self-emp-not-inc   83311   Bachelors             13   \n",
       "1   38            Private  215646     HS-grad              9   \n",
       "2   53            Private  234721        11th              7   \n",
       "3   28            Private  338409   Bachelors             13   \n",
       "4   37            Private  284582     Masters             14   \n",
       "\n",
       "        Marital_status          Occupation    Relationship    Race      Sex  \\\n",
       "0   Married-civ-spouse     Exec-managerial         Husband   White     Male   \n",
       "1             Divorced   Handlers-cleaners   Not-in-family   White     Male   \n",
       "2   Married-civ-spouse   Handlers-cleaners         Husband   Black     Male   \n",
       "3   Married-civ-spouse      Prof-specialty            Wife   Black   Female   \n",
       "4   Married-civ-spouse     Exec-managerial            Wife   White   Female   \n",
       "\n",
       "   Capital_gain  Capital_loss  Hours_per_week  Native_country  Income  \n",
       "0             0             0              13   United-States   <=50K  \n",
       "1             0             0              40   United-States   <=50K  \n",
       "2             0             0              40   United-States   <=50K  \n",
       "3             0             0              40            Cuba   <=50K  \n",
       "4             0             0              40   United-States   <=50K  "
      ]
     },
     "execution_count": 102,
     "metadata": {},
     "output_type": "execute_result"
    }
   ],
   "source": [
    "df.head()"
   ]
  },
  {
   "cell_type": "markdown",
   "id": "c168213d",
   "metadata": {},
   "source": [
    "In the dataset we have both categorical and numerical data.\n",
    "There are two unique values in the target column <= 50K and >50K. We can say that whether the person has annual income <=50K or >50K.\n",
    "\n",
    "The target variable 'Income' has two classes of data, hence its a classification data. We will look more into the dataset in the Exploratory Data Analysis part"
   ]
  },
  {
   "cell_type": "markdown",
   "id": "832c0725",
   "metadata": {},
   "source": [
    "# Exploratory Data Analysis"
   ]
  },
  {
   "cell_type": "code",
   "execution_count": 104,
   "id": "5f0aed1d",
   "metadata": {},
   "outputs": [
    {
     "data": {
      "text/plain": [
       "(32560, 15)"
      ]
     },
     "execution_count": 104,
     "metadata": {},
     "output_type": "execute_result"
    }
   ],
   "source": [
    "#check the size of the dataset\n",
    "\n",
    "df.shape"
   ]
  },
  {
   "cell_type": "markdown",
   "id": "88b67b45",
   "metadata": {},
   "source": [
    "We see that we have 32560 rows and 15 columns, out of which 1 (Income) is the targer or label"
   ]
  },
  {
   "cell_type": "code",
   "execution_count": 105,
   "id": "9e3a2871",
   "metadata": {},
   "outputs": [
    {
     "name": "stdout",
     "output_type": "stream",
     "text": [
      "<class 'pandas.core.frame.DataFrame'>\n",
      "RangeIndex: 32560 entries, 0 to 32559\n",
      "Data columns (total 15 columns):\n",
      " #   Column          Non-Null Count  Dtype \n",
      "---  ------          --------------  ----- \n",
      " 0   Age             32560 non-null  int64 \n",
      " 1   Workclass       32560 non-null  object\n",
      " 2   Fnlwgt          32560 non-null  int64 \n",
      " 3   Education       32560 non-null  object\n",
      " 4   Education_num   32560 non-null  int64 \n",
      " 5   Marital_status  32560 non-null  object\n",
      " 6   Occupation      32560 non-null  object\n",
      " 7   Relationship    32560 non-null  object\n",
      " 8   Race            32560 non-null  object\n",
      " 9   Sex             32560 non-null  object\n",
      " 10  Capital_gain    32560 non-null  int64 \n",
      " 11  Capital_loss    32560 non-null  int64 \n",
      " 12  Hours_per_week  32560 non-null  int64 \n",
      " 13  Native_country  32560 non-null  object\n",
      " 14  Income          32560 non-null  object\n",
      "dtypes: int64(6), object(9)\n",
      "memory usage: 3.7+ MB\n"
     ]
    }
   ],
   "source": [
    "# Overview of the dataset\n",
    "\n",
    "df.info()"
   ]
  },
  {
   "cell_type": "markdown",
   "id": "e6820045",
   "metadata": {},
   "source": [
    "This analysis shows that the datset has both object and integer datatypes. We will look into the datatypes and treat it accordingly."
   ]
  },
  {
   "cell_type": "code",
   "execution_count": 106,
   "id": "843a658a",
   "metadata": {},
   "outputs": [
    {
     "data": {
      "text/plain": [
       "Age               0\n",
       "Workclass         0\n",
       "Fnlwgt            0\n",
       "Education         0\n",
       "Education_num     0\n",
       "Marital_status    0\n",
       "Occupation        0\n",
       "Relationship      0\n",
       "Race              0\n",
       "Sex               0\n",
       "Capital_gain      0\n",
       "Capital_loss      0\n",
       "Hours_per_week    0\n",
       "Native_country    0\n",
       "Income            0\n",
       "dtype: int64"
      ]
     },
     "execution_count": 106,
     "metadata": {},
     "output_type": "execute_result"
    }
   ],
   "source": [
    "df.isnull().sum()"
   ]
  },
  {
   "cell_type": "markdown",
   "id": "c05bbbe6",
   "metadata": {},
   "source": [
    "We can see that there is no null values in the dataset"
   ]
  },
  {
   "cell_type": "code",
   "execution_count": 107,
   "id": "2be9e37b",
   "metadata": {},
   "outputs": [
    {
     "data": {
      "image/png": "[encoded data removed]",
      "text/plain": [
       "<Figure size 432x288 with 2 Axes>"
      ]
     },
     "metadata": {
      "needs_background": "light"
     },
     "output_type": "display_data"
    }
   ],
   "source": [
    "sns.heatmap(df.isnull())\n",
    "\n",
    "plt.show()"
   ]
  },
  {
   "cell_type": "markdown",
   "id": "358147ab",
   "metadata": {},
   "source": [
    "We can clearly see no null values"
   ]
  },
  {
   "cell_type": "code",
   "execution_count": 108,
   "id": "c334b3e7",
   "metadata": {},
   "outputs": [
    {
     "data": {
      "text/html": [
       "<div>\n",
       "<style scoped>\n",
       "    .dataframe tbody tr th:only-of-type {\n",
       "        vertical-align: middle;\n",
       "    }\n",
       "\n",
       "    .dataframe tbody tr th {\n",
       "        vertical-align: top;\n",
       "    }\n",
       "\n",
       "    .dataframe thead th {\n",
       "        text-align: right;\n",
       "    }\n",
       "</style>\n",
       "<table border=\"1\" class=\"dataframe\">\n",
       "  <thead>\n",
       "    <tr style=\"text-align: right;\">\n",
       "      <th></th>\n",
       "      <th>Number of Unique Values</th>\n",
       "    </tr>\n",
       "  </thead>\n",
       "  <tbody>\n",
       "    <tr>\n",
       "      <th>Age</th>\n",
       "      <td>73</td>\n",
       "    </tr>\n",
       "    <tr>\n",
       "      <th>Workclass</th>\n",
       "      <td>9</td>\n",
       "    </tr>\n",
       "    <tr>\n",
       "      <th>Fnlwgt</th>\n",
       "      <td>21647</td>\n",
       "    </tr>\n",
       "    <tr>\n",
       "      <th>Education</th>\n",
       "      <td>16</td>\n",
       "    </tr>\n",
       "    <tr>\n",
       "      <th>Education_num</th>\n",
       "      <td>16</td>\n",
       "    </tr>\n",
       "    <tr>\n",
       "      <th>Marital_status</th>\n",
       "      <td>7</td>\n",
       "    </tr>\n",
       "    <tr>\n",
       "      <th>Occupation</th>\n",
       "      <td>15</td>\n",
       "    </tr>\n",
       "    <tr>\n",
       "      <th>Relationship</th>\n",
       "      <td>6</td>\n",
       "    </tr>\n",
       "    <tr>\n",
       "      <th>Race</th>\n",
       "      <td>5</td>\n",
       "    </tr>\n",
       "    <tr>\n",
       "      <th>Sex</th>\n",
       "      <td>2</td>\n",
       "    </tr>\n",
       "    <tr>\n",
       "      <th>Capital_gain</th>\n",
       "      <td>119</td>\n",
       "    </tr>\n",
       "    <tr>\n",
       "      <th>Capital_loss</th>\n",
       "      <td>92</td>\n",
       "    </tr>\n",
       "    <tr>\n",
       "      <th>Hours_per_week</th>\n",
       "      <td>94</td>\n",
       "    </tr>\n",
       "    <tr>\n",
       "      <th>Native_country</th>\n",
       "      <td>42</td>\n",
       "    </tr>\n",
       "    <tr>\n",
       "      <th>Income</th>\n",
       "      <td>2</td>\n",
       "    </tr>\n",
       "  </tbody>\n",
       "</table>\n",
       "</div>"
      ],
      "text/plain": [
       "                Number of Unique Values\n",
       "Age                                  73\n",
       "Workclass                             9\n",
       "Fnlwgt                            21647\n",
       "Education                            16\n",
       "Education_num                        16\n",
       "Marital_status                        7\n",
       "Occupation                           15\n",
       "Relationship                          6\n",
       "Race                                  5\n",
       "Sex                                   2\n",
       "Capital_gain                        119\n",
       "Capital_loss                         92\n",
       "Hours_per_week                       94\n",
       "Native_country                       42\n",
       "Income                                2"
      ]
     },
     "execution_count": 108,
     "metadata": {},
     "output_type": "execute_result"
    }
   ],
   "source": [
    "#Check the number of unique values in each columns\n",
    "\n",
    "df.nunique().to_frame('Number of Unique Values')"
   ]
  },
  {
   "cell_type": "markdown",
   "id": "eb8c4189",
   "metadata": {},
   "source": [
    "We can see here the number of unique values in each columns"
   ]
  },
  {
   "cell_type": "code",
   "execution_count": 109,
   "id": "1654d402",
   "metadata": {},
   "outputs": [
    {
     "data": {
      "text/plain": [
       "Age                int64\n",
       "Workclass         object\n",
       "Fnlwgt             int64\n",
       "Education         object\n",
       "Education_num      int64\n",
       "Marital_status    object\n",
       "Occupation        object\n",
       "Relationship      object\n",
       "Race              object\n",
       "Sex               object\n",
       "Capital_gain       int64\n",
       "Capital_loss       int64\n",
       "Hours_per_week     int64\n",
       "Native_country    object\n",
       "Income            object\n",
       "dtype: object"
      ]
     },
     "execution_count": 109,
     "metadata": {},
     "output_type": "execute_result"
    }
   ],
   "source": [
    "# different datatypes of columns \n",
    "\n",
    "df.dtypes"
   ]
  },
  {
   "cell_type": "markdown",
   "id": "d83fa58f",
   "metadata": {},
   "source": [
    "We see data with object datatype and int datatype. We Will encode the object type later."
   ]
  },
  {
   "cell_type": "markdown",
   "id": "4f0a47d3",
   "metadata": {},
   "source": [
    "# Feature Engineering"
   ]
  },
  {
   "cell_type": "code",
   "execution_count": 110,
   "id": "7a91280c",
   "metadata": {},
   "outputs": [
    {
     "name": "stdout",
     "output_type": "stream",
     "text": [
      "----------------------------------- \n",
      "\n",
      "36    898\n",
      "31    888\n",
      "34    886\n",
      "23    877\n",
      "35    876\n",
      "     ... \n",
      "83      6\n",
      "88      3\n",
      "85      3\n",
      "86      1\n",
      "87      1\n",
      "Name: Age, Length: 73, dtype: int64\n",
      "----------------------------------- \n",
      "\n",
      " Private             22696\n",
      " Self-emp-not-inc     2541\n",
      " Local-gov            2093\n",
      " ?                    1836\n",
      " State-gov            1297\n",
      " Self-emp-inc         1116\n",
      " Federal-gov           960\n",
      " Without-pay            14\n",
      " Never-worked            7\n",
      "Name: Workclass, dtype: int64\n",
      "----------------------------------- \n",
      "\n",
      "164190    13\n",
      "203488    13\n",
      "123011    13\n",
      "148995    12\n",
      "126675    12\n",
      "          ..\n",
      "325573     1\n",
      "140176     1\n",
      "318264     1\n",
      "329205     1\n",
      "257302     1\n",
      "Name: Fnlwgt, Length: 21647, dtype: int64\n",
      "----------------------------------- \n",
      "\n",
      " HS-grad         10501\n",
      " Some-college     7291\n",
      " Bachelors        5354\n",
      " Masters          1723\n",
      " Assoc-voc        1382\n",
      " 11th             1175\n",
      " Assoc-acdm       1067\n",
      " 10th              933\n",
      " 7th-8th           646\n",
      " Prof-school       576\n",
      " 9th               514\n",
      " 12th              433\n",
      " Doctorate         413\n",
      " 5th-6th           333\n",
      " 1st-4th           168\n",
      " Preschool          51\n",
      "Name: Education, dtype: int64\n",
      "----------------------------------- \n",
      "\n",
      "9     10501\n",
      "10     7291\n",
      "13     5354\n",
      "14     1723\n",
      "11     1382\n",
      "7      1175\n",
      "12     1067\n",
      "6       933\n",
      "4       646\n",
      "15      576\n",
      "5       514\n",
      "8       433\n",
      "16      413\n",
      "3       333\n",
      "2       168\n",
      "1        51\n",
      "Name: Education_num, dtype: int64\n",
      "----------------------------------- \n",
      "\n",
      " Married-civ-spouse       14976\n",
      " Never-married            10682\n",
      " Divorced                  4443\n",
      " Separated                 1025\n",
      " Widowed                    993\n",
      " Married-spouse-absent      418\n",
      " Married-AF-spouse           23\n",
      "Name: Marital_status, dtype: int64\n",
      "----------------------------------- \n",
      "\n",
      " Prof-specialty       4140\n",
      " Craft-repair         4099\n",
      " Exec-managerial      4066\n",
      " Adm-clerical         3769\n",
      " Sales                3650\n",
      " Other-service        3295\n",
      " Machine-op-inspct    2002\n",
      " ?                    1843\n",
      " Transport-moving     1597\n",
      " Handlers-cleaners    1370\n",
      " Farming-fishing       994\n",
      " Tech-support          928\n",
      " Protective-serv       649\n",
      " Priv-house-serv       149\n",
      " Armed-Forces            9\n",
      "Name: Occupation, dtype: int64\n",
      "----------------------------------- \n",
      "\n",
      " Husband           13193\n",
      " Not-in-family      8304\n",
      " Own-child          5068\n",
      " Unmarried          3446\n",
      " Wife               1568\n",
      " Other-relative      981\n",
      "Name: Relationship, dtype: int64\n",
      "----------------------------------- \n",
      "\n",
      " White                 27815\n",
      " Black                  3124\n",
      " Asian-Pac-Islander     1039\n",
      " Amer-Indian-Eskimo      311\n",
      " Other                   271\n",
      "Name: Race, dtype: int64\n",
      "----------------------------------- \n",
      "\n",
      " Male      21789\n",
      " Female    10771\n",
      "Name: Sex, dtype: int64\n",
      "----------------------------------- \n",
      "\n",
      "0        29849\n",
      "15024      347\n",
      "7688       284\n",
      "7298       246\n",
      "99999      159\n",
      "         ...  \n",
      "1111         1\n",
      "2538         1\n",
      "22040        1\n",
      "4931         1\n",
      "5060         1\n",
      "Name: Capital_gain, Length: 119, dtype: int64\n",
      "----------------------------------- \n",
      "\n",
      "0       31041\n",
      "1902      202\n",
      "1977      168\n",
      "1887      159\n",
      "1848       51\n",
      "        ...  \n",
      "2080        1\n",
      "1539        1\n",
      "1844        1\n",
      "2489        1\n",
      "1411        1\n",
      "Name: Capital_loss, Length: 92, dtype: int64\n",
      "----------------------------------- \n",
      "\n",
      "40    15216\n",
      "50     2819\n",
      "45     1824\n",
      "60     1475\n",
      "35     1297\n",
      "      ...  \n",
      "82        1\n",
      "94        1\n",
      "92        1\n",
      "74        1\n",
      "87        1\n",
      "Name: Hours_per_week, Length: 94, dtype: int64\n",
      "----------------------------------- \n",
      "\n",
      " United-States                 29169\n",
      " Mexico                          643\n",
      " ?                               583\n",
      " Philippines                     198\n",
      " Germany                         137\n",
      " Canada                          121\n",
      " Puerto-Rico                     114\n",
      " El-Salvador                     106\n",
      " India                           100\n",
      " Cuba                             95\n",
      " England                          90\n",
      " Jamaica                          81\n",
      " South                            80\n",
      " China                            75\n",
      " Italy                            73\n",
      " Dominican-Republic               70\n",
      " Vietnam                          67\n",
      " Guatemala                        64\n",
      " Japan                            62\n",
      " Poland                           60\n",
      " Columbia                         59\n",
      " Taiwan                           51\n",
      " Haiti                            44\n",
      " Iran                             43\n",
      " Portugal                         37\n",
      " Nicaragua                        34\n",
      " Peru                             31\n",
      " France                           29\n",
      " Greece                           29\n",
      " Ecuador                          28\n",
      " Ireland                          24\n",
      " Hong                             20\n",
      " Cambodia                         19\n",
      " Trinadad&Tobago                  19\n",
      " Laos                             18\n",
      " Thailand                         18\n",
      " Yugoslavia                       16\n",
      " Outlying-US(Guam-USVI-etc)       14\n",
      " Honduras                         13\n",
      " Hungary                          13\n",
      " Scotland                         12\n",
      " Holand-Netherlands                1\n",
      "Name: Native_country, dtype: int64\n",
      "----------------------------------- \n",
      "\n",
      " <=50K    24719\n",
      " >50K      7841\n",
      "Name: Income, dtype: int64\n"
     ]
    }
   ],
   "source": [
    "#Check the value counts of each of the columns\n",
    "for i in df.columns:\n",
    "    print('-----------------------------------','\\n')\n",
    "    print(df[i].value_counts())"
   ]
  },
  {
   "cell_type": "markdown",
   "id": "51ce4a61",
   "metadata": {},
   "source": [
    "From aboves we see the following points\n",
    "\n",
    "We have 29849 zero value in capital gain and 31041 zero values in capital loss, which is approximately 90% of the data, so we consider dropping them.\n",
    "\n",
    "Also we have ? value in workclass, occupation and Native_country, so we need to impute this value."
   ]
  },
  {
   "cell_type": "code",
   "execution_count": 111,
   "id": "c0555b49",
   "metadata": {},
   "outputs": [],
   "source": [
    "# drop capital gains and capital loss columns\n",
    "\n",
    "df.drop('Capital_gain', axis = 1, inplace = True)\n",
    "\n",
    "df.drop('Capital_loss', axis = 1, inplace = True)"
   ]
  },
  {
   "cell_type": "code",
   "execution_count": 112,
   "id": "337581ec",
   "metadata": {},
   "outputs": [],
   "source": [
    "# imputing null values by most occuring value as these are categorical column\n",
    "\n",
    "df['Workclass'] = df.Workclass.str.replace('?', 'Private')\n",
    "\n",
    "df['Occupation'] = df.Occupation.str.replace('?', 'Prof-specialty')\n",
    "\n",
    "df['Native_country'] = df.Native_country.str.replace('?', 'United-States')"
   ]
  },
  {
   "cell_type": "code",
   "execution_count": 113,
   "id": "2a60b343",
   "metadata": {},
   "outputs": [
    {
     "data": {
      "text/plain": [
       " Private             24532\n",
       " Self-emp-not-inc     2541\n",
       " Local-gov            2093\n",
       " State-gov            1297\n",
       " Self-emp-inc         1116\n",
       " Federal-gov           960\n",
       " Without-pay            14\n",
       " Never-worked            7\n",
       "Name: Workclass, dtype: int64"
      ]
     },
     "execution_count": 113,
     "metadata": {},
     "output_type": "execute_result"
    }
   ],
   "source": [
    "df['Workclass'].value_counts()"
   ]
  },
  {
   "cell_type": "code",
   "execution_count": 114,
   "id": "bc0bede8",
   "metadata": {},
   "outputs": [
    {
     "data": {
      "text/plain": [
       " Prof-specialty       5983\n",
       " Craft-repair         4099\n",
       " Exec-managerial      4066\n",
       " Adm-clerical         3769\n",
       " Sales                3650\n",
       " Other-service        3295\n",
       " Machine-op-inspct    2002\n",
       " Transport-moving     1597\n",
       " Handlers-cleaners    1370\n",
       " Farming-fishing       994\n",
       " Tech-support          928\n",
       " Protective-serv       649\n",
       " Priv-house-serv       149\n",
       " Armed-Forces            9\n",
       "Name: Occupation, dtype: int64"
      ]
     },
     "execution_count": 114,
     "metadata": {},
     "output_type": "execute_result"
    }
   ],
   "source": [
    "df['Occupation'].value_counts()"
   ]
  },
  {
   "cell_type": "code",
   "execution_count": 115,
   "id": "5583eb49",
   "metadata": {},
   "outputs": [
    {
     "data": {
      "text/plain": [
       " United-States                 29752\n",
       " Mexico                          643\n",
       " Philippines                     198\n",
       " Germany                         137\n",
       " Canada                          121\n",
       " Puerto-Rico                     114\n",
       " El-Salvador                     106\n",
       " India                           100\n",
       " Cuba                             95\n",
       " England                          90\n",
       " Jamaica                          81\n",
       " South                            80\n",
       " China                            75\n",
       " Italy                            73\n",
       " Dominican-Republic               70\n",
       " Vietnam                          67\n",
       " Guatemala                        64\n",
       " Japan                            62\n",
       " Poland                           60\n",
       " Columbia                         59\n",
       " Taiwan                           51\n",
       " Haiti                            44\n",
       " Iran                             43\n",
       " Portugal                         37\n",
       " Nicaragua                        34\n",
       " Peru                             31\n",
       " France                           29\n",
       " Greece                           29\n",
       " Ecuador                          28\n",
       " Ireland                          24\n",
       " Hong                             20\n",
       " Cambodia                         19\n",
       " Trinadad&Tobago                  19\n",
       " Laos                             18\n",
       " Thailand                         18\n",
       " Yugoslavia                       16\n",
       " Outlying-US(Guam-USVI-etc)       14\n",
       " Honduras                         13\n",
       " Hungary                          13\n",
       " Scotland                         12\n",
       " Holand-Netherlands                1\n",
       "Name: Native_country, dtype: int64"
      ]
     },
     "execution_count": 115,
     "metadata": {},
     "output_type": "execute_result"
    }
   ],
   "source": [
    "df['Native_country'].value_counts()"
   ]
  },
  {
   "cell_type": "markdown",
   "id": "ed33923f",
   "metadata": {},
   "source": [
    "Now we have filled the data\n",
    "\n",
    "Her we can see that there are multiple classes. Grouping related classes to one class and create new classes for easy analysis and visualization."
   ]
  },
  {
   "cell_type": "code",
   "execution_count": 116,
   "id": "7bb14713",
   "metadata": {},
   "outputs": [],
   "source": [
    "df.Workclass = df.Workclass.replace([' Local-gov',' State-gov',' Federal-gov'],' Govt-Sector')\n",
    "\n",
    "df.Workclass = df.Workclass.replace([' Private',' Self-emp-not-inc',' Self-emp-inc'],' Pvt-sector')\n",
    "\n",
    "df.Workclass = df.Workclass.replace([' Without-pay',' Never-worked'],'Not-working')"
   ]
  },
  {
   "cell_type": "code",
   "execution_count": 117,
   "id": "40b49153",
   "metadata": {},
   "outputs": [
    {
     "data": {
      "text/plain": [
       " Pvt-sector     28189\n",
       " Govt-Sector     4350\n",
       "Not-working        21\n",
       "Name: Workclass, dtype: int64"
      ]
     },
     "execution_count": 117,
     "metadata": {},
     "output_type": "execute_result"
    }
   ],
   "source": [
    "df['Workclass'].value_counts()"
   ]
  },
  {
   "cell_type": "code",
   "execution_count": 118,
   "id": "6adb0dde",
   "metadata": {},
   "outputs": [],
   "source": [
    "df['Education'] = df['Education'].replace([' Preschool',' 1st-4th',' 5th-6th',' 7th-8th',' 9th',' 10th',' 11th',' 12th'],'School')\n",
    "df['Education'] = df[\"Education\"].replace([' HS-grad',' Prof-school'],' High-School')\n",
    "df['Education'] = df[\"Education\"].replace([' Some-college',' Assoc-voc',' Assoc-acdm'],' Secondary-School')\n",
    "df['Education'] = df[\"Education\"].replace([' Bachelors',],' Under_Graduation')\n",
    "df['Education'] = df[\"Education\"].replace([' Masters'],'Post_Graduation')\n",
    "df['Education'] = df[\"Education\"].replace([' Doctorate'],' PhD')"
   ]
  },
  {
   "cell_type": "code",
   "execution_count": 119,
   "id": "ca225fb8",
   "metadata": {},
   "outputs": [
    {
     "data": {
      "text/plain": [
       " High-School         11077\n",
       " Secondary-School     9740\n",
       " Under_Graduation     5354\n",
       "School                4253\n",
       "Post_Graduation       1723\n",
       " PhD                   413\n",
       "Name: Education, dtype: int64"
      ]
     },
     "execution_count": 119,
     "metadata": {},
     "output_type": "execute_result"
    }
   ],
   "source": [
    "df['Education'].value_counts()"
   ]
  },
  {
   "cell_type": "code",
   "execution_count": 120,
   "id": "a18c495e",
   "metadata": {},
   "outputs": [],
   "source": [
    "df['Marital_status'] = df['Marital_status'].replace([' Married-civ-spouse',' Married-AF-spouse'],' Married')\n",
    "df['Marital_status'] = df['Marital_status'].replace([' Never-married'],' Single')\n",
    "df['Marital_status'] = df['Marital_status'].replace([' Divorced',' Widowed',' Separated',' Married-spouse-absent',],' Others')"
   ]
  },
  {
   "cell_type": "code",
   "execution_count": 121,
   "id": "6c67adc2",
   "metadata": {},
   "outputs": [
    {
     "data": {
      "text/plain": [
       " Married    14999\n",
       " Single     10682\n",
       " Others      6879\n",
       "Name: Marital_status, dtype: int64"
      ]
     },
     "execution_count": 121,
     "metadata": {},
     "output_type": "execute_result"
    }
   ],
   "source": [
    "df['Marital_status'].value_counts()"
   ]
  },
  {
   "cell_type": "code",
   "execution_count": 122,
   "id": "78089470",
   "metadata": {},
   "outputs": [
    {
     "data": {
      "text/html": [
       "<div>\n",
       "<style scoped>\n",
       "    .dataframe tbody tr th:only-of-type {\n",
       "        vertical-align: middle;\n",
       "    }\n",
       "\n",
       "    .dataframe tbody tr th {\n",
       "        vertical-align: top;\n",
       "    }\n",
       "\n",
       "    .dataframe thead th {\n",
       "        text-align: right;\n",
       "    }\n",
       "</style>\n",
       "<table border=\"1\" class=\"dataframe\">\n",
       "  <thead>\n",
       "    <tr style=\"text-align: right;\">\n",
       "      <th></th>\n",
       "      <th>Age</th>\n",
       "      <th>Workclass</th>\n",
       "      <th>Fnlwgt</th>\n",
       "      <th>Education</th>\n",
       "      <th>Education_num</th>\n",
       "      <th>Marital_status</th>\n",
       "      <th>Occupation</th>\n",
       "      <th>Relationship</th>\n",
       "      <th>Race</th>\n",
       "      <th>Sex</th>\n",
       "      <th>Hours_per_week</th>\n",
       "      <th>Native_country</th>\n",
       "      <th>Income</th>\n",
       "    </tr>\n",
       "  </thead>\n",
       "  <tbody>\n",
       "    <tr>\n",
       "      <th>0</th>\n",
       "      <td>50</td>\n",
       "      <td>Pvt-sector</td>\n",
       "      <td>83311</td>\n",
       "      <td>Under_Graduation</td>\n",
       "      <td>13</td>\n",
       "      <td>Married</td>\n",
       "      <td>Exec-managerial</td>\n",
       "      <td>Husband</td>\n",
       "      <td>White</td>\n",
       "      <td>Male</td>\n",
       "      <td>13</td>\n",
       "      <td>United-States</td>\n",
       "      <td>&lt;=50K</td>\n",
       "    </tr>\n",
       "    <tr>\n",
       "      <th>1</th>\n",
       "      <td>38</td>\n",
       "      <td>Pvt-sector</td>\n",
       "      <td>215646</td>\n",
       "      <td>High-School</td>\n",
       "      <td>9</td>\n",
       "      <td>Others</td>\n",
       "      <td>Handlers-cleaners</td>\n",
       "      <td>Not-in-family</td>\n",
       "      <td>White</td>\n",
       "      <td>Male</td>\n",
       "      <td>40</td>\n",
       "      <td>United-States</td>\n",
       "      <td>&lt;=50K</td>\n",
       "    </tr>\n",
       "    <tr>\n",
       "      <th>2</th>\n",
       "      <td>53</td>\n",
       "      <td>Pvt-sector</td>\n",
       "      <td>234721</td>\n",
       "      <td>School</td>\n",
       "      <td>7</td>\n",
       "      <td>Married</td>\n",
       "      <td>Handlers-cleaners</td>\n",
       "      <td>Husband</td>\n",
       "      <td>Black</td>\n",
       "      <td>Male</td>\n",
       "      <td>40</td>\n",
       "      <td>United-States</td>\n",
       "      <td>&lt;=50K</td>\n",
       "    </tr>\n",
       "    <tr>\n",
       "      <th>3</th>\n",
       "      <td>28</td>\n",
       "      <td>Pvt-sector</td>\n",
       "      <td>338409</td>\n",
       "      <td>Under_Graduation</td>\n",
       "      <td>13</td>\n",
       "      <td>Married</td>\n",
       "      <td>Prof-specialty</td>\n",
       "      <td>Wife</td>\n",
       "      <td>Black</td>\n",
       "      <td>Female</td>\n",
       "      <td>40</td>\n",
       "      <td>Cuba</td>\n",
       "      <td>&lt;=50K</td>\n",
       "    </tr>\n",
       "    <tr>\n",
       "      <th>4</th>\n",
       "      <td>37</td>\n",
       "      <td>Pvt-sector</td>\n",
       "      <td>284582</td>\n",
       "      <td>Post_Graduation</td>\n",
       "      <td>14</td>\n",
       "      <td>Married</td>\n",
       "      <td>Exec-managerial</td>\n",
       "      <td>Wife</td>\n",
       "      <td>White</td>\n",
       "      <td>Female</td>\n",
       "      <td>40</td>\n",
       "      <td>United-States</td>\n",
       "      <td>&lt;=50K</td>\n",
       "    </tr>\n",
       "  </tbody>\n",
       "</table>\n",
       "</div>"
      ],
      "text/plain": [
       "   Age    Workclass  Fnlwgt          Education  Education_num Marital_status  \\\n",
       "0   50   Pvt-sector   83311   Under_Graduation             13        Married   \n",
       "1   38   Pvt-sector  215646        High-School              9         Others   \n",
       "2   53   Pvt-sector  234721             School              7        Married   \n",
       "3   28   Pvt-sector  338409   Under_Graduation             13        Married   \n",
       "4   37   Pvt-sector  284582    Post_Graduation             14        Married   \n",
       "\n",
       "           Occupation    Relationship    Race      Sex  Hours_per_week  \\\n",
       "0     Exec-managerial         Husband   White     Male              13   \n",
       "1   Handlers-cleaners   Not-in-family   White     Male              40   \n",
       "2   Handlers-cleaners         Husband   Black     Male              40   \n",
       "3      Prof-specialty            Wife   Black   Female              40   \n",
       "4     Exec-managerial            Wife   White   Female              40   \n",
       "\n",
       "   Native_country  Income  \n",
       "0   United-States   <=50K  \n",
       "1   United-States   <=50K  \n",
       "2   United-States   <=50K  \n",
       "3            Cuba   <=50K  \n",
       "4   United-States   <=50K  "
      ]
     },
     "execution_count": 122,
     "metadata": {},
     "output_type": "execute_result"
    }
   ],
   "source": [
    "df.head()"
   ]
  },
  {
   "cell_type": "code",
   "execution_count": 123,
   "id": "92f64bbd",
   "metadata": {},
   "outputs": [
    {
     "data": {
      "text/plain": [
       " <=50K    24719\n",
       " >50K      7841\n",
       "Name: Income, dtype: int64"
      ]
     },
     "execution_count": 123,
     "metadata": {},
     "output_type": "execute_result"
    }
   ],
   "source": [
    "# Getting the value count of the target variable\n",
    "\n",
    "df['Income'].value_counts()"
   ]
  },
  {
   "cell_type": "markdown",
   "id": "e470ced9",
   "metadata": {},
   "source": [
    "We see that there are 2 classes, and the dataset is imbalanced. We will have to balance the datset for modelling."
   ]
  },
  {
   "cell_type": "markdown",
   "id": "9bb5f8d8",
   "metadata": {},
   "source": [
    "# Statistical Analysis of the DataSet"
   ]
  },
  {
   "cell_type": "code",
   "execution_count": 125,
   "id": "ee3e6433",
   "metadata": {},
   "outputs": [
    {
     "data": {
      "text/html": [
       "<div>\n",
       "<style scoped>\n",
       "    .dataframe tbody tr th:only-of-type {\n",
       "        vertical-align: middle;\n",
       "    }\n",
       "\n",
       "    .dataframe tbody tr th {\n",
       "        vertical-align: top;\n",
       "    }\n",
       "\n",
       "    .dataframe thead th {\n",
       "        text-align: right;\n",
       "    }\n",
       "</style>\n",
       "<table border=\"1\" class=\"dataframe\">\n",
       "  <thead>\n",
       "    <tr style=\"text-align: right;\">\n",
       "      <th></th>\n",
       "      <th>Age</th>\n",
       "      <th>Fnlwgt</th>\n",
       "      <th>Education_num</th>\n",
       "      <th>Hours_per_week</th>\n",
       "    </tr>\n",
       "  </thead>\n",
       "  <tbody>\n",
       "    <tr>\n",
       "      <th>count</th>\n",
       "      <td>32560.000000</td>\n",
       "      <td>3.256000e+04</td>\n",
       "      <td>32560.000000</td>\n",
       "      <td>32560.000000</td>\n",
       "    </tr>\n",
       "    <tr>\n",
       "      <th>mean</th>\n",
       "      <td>38.581634</td>\n",
       "      <td>1.897818e+05</td>\n",
       "      <td>10.080590</td>\n",
       "      <td>40.437469</td>\n",
       "    </tr>\n",
       "    <tr>\n",
       "      <th>std</th>\n",
       "      <td>13.640642</td>\n",
       "      <td>1.055498e+05</td>\n",
       "      <td>2.572709</td>\n",
       "      <td>12.347618</td>\n",
       "    </tr>\n",
       "    <tr>\n",
       "      <th>min</th>\n",
       "      <td>17.000000</td>\n",
       "      <td>1.228500e+04</td>\n",
       "      <td>1.000000</td>\n",
       "      <td>1.000000</td>\n",
       "    </tr>\n",
       "    <tr>\n",
       "      <th>25%</th>\n",
       "      <td>28.000000</td>\n",
       "      <td>1.178315e+05</td>\n",
       "      <td>9.000000</td>\n",
       "      <td>40.000000</td>\n",
       "    </tr>\n",
       "    <tr>\n",
       "      <th>50%</th>\n",
       "      <td>37.000000</td>\n",
       "      <td>1.783630e+05</td>\n",
       "      <td>10.000000</td>\n",
       "      <td>40.000000</td>\n",
       "    </tr>\n",
       "    <tr>\n",
       "      <th>75%</th>\n",
       "      <td>48.000000</td>\n",
       "      <td>2.370545e+05</td>\n",
       "      <td>12.000000</td>\n",
       "      <td>45.000000</td>\n",
       "    </tr>\n",
       "    <tr>\n",
       "      <th>max</th>\n",
       "      <td>90.000000</td>\n",
       "      <td>1.484705e+06</td>\n",
       "      <td>16.000000</td>\n",
       "      <td>99.000000</td>\n",
       "    </tr>\n",
       "  </tbody>\n",
       "</table>\n",
       "</div>"
      ],
      "text/plain": [
       "                Age        Fnlwgt  Education_num  Hours_per_week\n",
       "count  32560.000000  3.256000e+04   32560.000000    32560.000000\n",
       "mean      38.581634  1.897818e+05      10.080590       40.437469\n",
       "std       13.640642  1.055498e+05       2.572709       12.347618\n",
       "min       17.000000  1.228500e+04       1.000000        1.000000\n",
       "25%       28.000000  1.178315e+05       9.000000       40.000000\n",
       "50%       37.000000  1.783630e+05      10.000000       40.000000\n",
       "75%       48.000000  2.370545e+05      12.000000       45.000000\n",
       "max       90.000000  1.484705e+06      16.000000       99.000000"
      ]
     },
     "execution_count": 125,
     "metadata": {},
     "output_type": "execute_result"
    }
   ],
   "source": [
    "# description of numerical data columns\n",
    "\n",
    "df.describe()"
   ]
  },
  {
   "cell_type": "markdown",
   "id": "d348fd31",
   "metadata": {},
   "source": [
    "This gives the statistical information of the dataset. The dataset looks perfect since there are no negative / invalid values present."
   ]
  },
  {
   "cell_type": "markdown",
   "id": "ffa72737",
   "metadata": {},
   "source": [
    "# Checking the 'categorical' and 'numerical columns'"
   ]
  },
  {
   "cell_type": "code",
   "execution_count": 126,
   "id": "bba639b0",
   "metadata": {},
   "outputs": [
    {
     "name": "stdout",
     "output_type": "stream",
     "text": [
      "['Workclass', 'Education', 'Marital_status', 'Occupation', 'Relationship', 'Race', 'Sex', 'Native_country', 'Income']\n"
     ]
    }
   ],
   "source": [
    "# check the categorical columns\n",
    "\n",
    "cat_col = []\n",
    "for i in df.dtypes.index:\n",
    "    if df.dtypes[i] == 'object':\n",
    "        cat_col.append(i)\n",
    "\n",
    "print(cat_col)"
   ]
  },
  {
   "cell_type": "code",
   "execution_count": 127,
   "id": "9f0abab0",
   "metadata": {},
   "outputs": [
    {
     "name": "stdout",
     "output_type": "stream",
     "text": [
      "['Age', 'Fnlwgt', 'Education_num', 'Hours_per_week']\n"
     ]
    }
   ],
   "source": [
    "# check the numerical column\n",
    "\n",
    "num_col=[]\n",
    "for i in df.dtypes.index:\n",
    "    if df.dtypes[i]!='object':\n",
    "        num_col.append(i)\n",
    "\n",
    "print(num_col)"
   ]
  },
  {
   "cell_type": "markdown",
   "id": "faff90af",
   "metadata": {},
   "source": [
    "# Data Visualization"
   ]
  },
  {
   "cell_type": "markdown",
   "id": "c817aa3c",
   "metadata": {},
   "source": [
    "# Univariate Analysis (Categorical columns)"
   ]
  },
  {
   "cell_type": "code",
   "execution_count": 128,
   "id": "3ec5f26d",
   "metadata": {},
   "outputs": [
    {
     "data": {
      "image/png": "[encoded data removed]",
      "text/plain": [
       "<Figure size 360x360 with 1 Axes>"
      ]
     },
     "metadata": {
      "needs_background": "light"
     },
     "output_type": "display_data"
    }
   ],
   "source": [
    "# Chekc whether the income is above 50K or not\n",
    "\n",
    "plt.figure(figsize = (5,5))\n",
    "\n",
    "sns.countplot(df['Income'])\n",
    "\n",
    "plt.show()"
   ]
  },
  {
   "cell_type": "markdown",
   "id": "64e4b8a1",
   "metadata": {},
   "source": [
    "we can clearly see that target is imbalanced and we will have to balance it"
   ]
  },
  {
   "cell_type": "code",
   "execution_count": 129,
   "id": "a38d496f",
   "metadata": {},
   "outputs": [
    {
     "data": {
      "image/png": "[encoded data removed]",
      "text/plain": [
       "<Figure size 360x360 with 1 Axes>"
      ]
     },
     "metadata": {
      "needs_background": "light"
     },
     "output_type": "display_data"
    }
   ],
   "source": [
    "# Visualizing the column workclass\n",
    "\n",
    "plt.figure(figsize = (5, 5))\n",
    "\n",
    "sns.countplot(df['Workclass'])\n",
    "\n",
    "plt.show()"
   ]
  },
  {
   "cell_type": "markdown",
   "id": "ddeb38f7",
   "metadata": {},
   "source": [
    "Here we can see that, the population is max working in the private sector, followed by govt sector and none unemployed."
   ]
  },
  {
   "cell_type": "code",
   "execution_count": 130,
   "id": "6889059e",
   "metadata": {},
   "outputs": [
    {
     "data": {
      "image/png": "[encoded data removed]",
      "text/plain": [
       "<Figure size 720x360 with 1 Axes>"
      ]
     },
     "metadata": {
      "needs_background": "light"
     },
     "output_type": "display_data"
    }
   ],
   "source": [
    "# Visualizing the Education column\n",
    "\n",
    "plt.figure(figsize = (10, 5))\n",
    "\n",
    "sns.countplot(df['Education'])\n",
    "\n",
    "plt.show()"
   ]
  },
  {
   "cell_type": "markdown",
   "id": "002c36e4",
   "metadata": {},
   "source": [
    "Here we can see that the max population has the education level at high school, followed by secondary school"
   ]
  },
  {
   "cell_type": "code",
   "execution_count": 131,
   "id": "672a03e1",
   "metadata": {},
   "outputs": [
    {
     "data": {
      "image/png": "[encoded data removed]",
      "text/plain": [
       "<Figure size 360x360 with 1 Axes>"
      ]
     },
     "metadata": {
      "needs_background": "light"
     },
     "output_type": "display_data"
    }
   ],
   "source": [
    "# Visualizing the Marital_status\n",
    "\n",
    "plt.figure(figsize = (5,5))\n",
    "\n",
    "sns.countplot(df['Marital_status'])\n",
    "\n",
    "plt.show()"
   ]
  },
  {
   "cell_type": "markdown",
   "id": "f594a828",
   "metadata": {},
   "source": [
    "Here we can see that the population of married people are higher"
   ]
  },
  {
   "cell_type": "code",
   "execution_count": 132,
   "id": "3b6c6004",
   "metadata": {},
   "outputs": [
    {
     "data": {
      "image/png": "[encoded data removed]",
      "text/plain": [
       "<Figure size 720x432 with 1 Axes>"
      ]
     },
     "metadata": {
      "needs_background": "light"
     },
     "output_type": "display_data"
    }
   ],
   "source": [
    "# Visualize the count of Occupation of the people\n",
    "\n",
    "plt.figure(figsize = (10, 6))\n",
    "\n",
    "sns.countplot(df['Occupation'])\n",
    "\n",
    "plt.xticks(rotation = 90)\n",
    "\n",
    "plt.show()"
   ]
  },
  {
   "cell_type": "markdown",
   "id": "38a8ebfe",
   "metadata": {},
   "source": [
    "The people who are in the position of Prof-speciality have highest count and the people in the position Armed-Forces have very least counts"
   ]
  },
  {
   "cell_type": "code",
   "execution_count": 134,
   "id": "bcf3f67a",
   "metadata": {},
   "outputs": [
    {
     "data": {
      "image/png": "[encoded data removed]",
      "text/plain": [
       "<Figure size 360x360 with 1 Axes>"
      ]
     },
     "metadata": {},
     "output_type": "display_data"
    }
   ],
   "source": [
    "# Visualize the count of Relationship of the people\n",
    "\n",
    "labels='Husband','Not-in-family','Own-child', 'Unmarried','Wife','Other-relative'\n",
    "\n",
    "fig, ax = plt.subplots(figsize = (5, 5))\n",
    "\n",
    "ax.pie(df['Relationship'].value_counts(), labels = labels, autopct = '%1.2f%%', shadow = True)\n",
    "\n",
    "plt.show()"
   ]
  },
  {
   "cell_type": "markdown",
   "id": "a44ad3ec",
   "metadata": {},
   "source": [
    "The count is high in the Husband category which has around 40% of count and other relative has very least count around 3%."
   ]
  },
  {
   "cell_type": "code",
   "execution_count": 136,
   "id": "e339d022",
   "metadata": {},
   "outputs": [
    {
     "data": {
      "image/png": "[encoded data removed]",
      "text/plain": [
       "<Figure size 720x576 with 1 Axes>"
      ]
     },
     "metadata": {},
     "output_type": "display_data"
    }
   ],
   "source": [
    "# count of Race of the people\n",
    "\n",
    "labels = 'White','Black','Asian-Pac-Islander', 'Amer-Indian-Eskimo','Other'\n",
    "\n",
    "fig, ax = plt.subplots(figsize = (10, 8))\n",
    "\n",
    "ax.pie(df['Race'].value_counts(), labels = labels, autopct = '%1.2f%%', shadow = True)\n",
    "\n",
    "plt.show()"
   ]
  },
  {
   "cell_type": "markdown",
   "id": "3ae0b5cb",
   "metadata": {},
   "source": [
    "White family groups have high count of around 85% and Other race have least count around 0.83%."
   ]
  },
  {
   "cell_type": "code",
   "execution_count": 137,
   "id": "8679ea63",
   "metadata": {},
   "outputs": [
    {
     "data": {
      "image/png": "[encoded data removed]",
      "text/plain": [
       "<Figure size 720x576 with 1 Axes>"
      ]
     },
     "metadata": {},
     "output_type": "display_data"
    }
   ],
   "source": [
    "# count of Sex group of the people\n",
    "\n",
    "labels = 'Male','Female'\n",
    "\n",
    "fig, ax = plt.subplots(figsize = (10, 8))\n",
    "\n",
    "colors = ['purple','orange']\n",
    "\n",
    "ax.pie(df['Sex'].value_counts(), labels = labels, autopct = '%1.2f%%', shadow = True, colors = colors)\n",
    "\n",
    "plt.show()"
   ]
  },
  {
   "cell_type": "markdown",
   "id": "ee2797dc",
   "metadata": {},
   "source": [
    "The count of Male is high and has around 67% and only 33% of females are there."
   ]
  },
  {
   "cell_type": "code",
   "execution_count": 138,
   "id": "235df4be",
   "metadata": {},
   "outputs": [
    {
     "data": {
      "image/png": "[encoded data removed]",
      "text/plain": [
       "<Figure size 720x432 with 1 Axes>"
      ]
     },
     "metadata": {
      "needs_background": "light"
     },
     "output_type": "display_data"
    }
   ],
   "source": [
    "# Native country of the people\n",
    "\n",
    "plt.figure(figsize = (10, 6))\n",
    "\n",
    "sns.countplot(df['Native_country'])\n",
    "\n",
    "plt.xticks(rotation = 90)\n",
    "\n",
    "plt.show()"
   ]
  },
  {
   "cell_type": "markdown",
   "id": "90ffd4b4",
   "metadata": {},
   "source": [
    "The United States country has highest count of around 29K and other countries have very less counts."
   ]
  },
  {
   "cell_type": "markdown",
   "id": "67599c2d",
   "metadata": {},
   "source": [
    "# Checking how the data is distributed (numerical columns)"
   ]
  },
  {
   "cell_type": "code",
   "execution_count": 139,
   "id": "7bd34be8",
   "metadata": {},
   "outputs": [
    {
     "data": {
      "image/png": "[encoded data removed]",
      "text/plain": [
       "<Figure size 720x720 with 4 Axes>"
      ]
     },
     "metadata": {},
     "output_type": "display_data"
    }
   ],
   "source": [
    "plt.figure(figsize = (10,10), facecolor = 'white')\n",
    "\n",
    "plotnumber = 1\n",
    "\n",
    "for columns in num_col:\n",
    "    if plotnumber <= 5:\n",
    "        ax = plt.subplot(3, 2, plotnumber)\n",
    "        sns.distplot(df[columns], color = 'blue')\n",
    "        plt.xlabel(columns, fontsize = 15)\n",
    "    plotnumber += 1\n",
    "plt.tight_layout()"
   ]
  },
  {
   "cell_type": "markdown",
   "id": "78bf8d27",
   "metadata": {},
   "source": [
    "We can clearly see that the dataset is not normal. We have 'Age', Final weight skewed right, education is scattered and hours is also scattered with no skewness"
   ]
  },
  {
   "cell_type": "markdown",
   "id": "0f97beac",
   "metadata": {},
   "source": [
    "# Bivariate Analysis (Checking relation between features and label)# "
   ]
  },
  {
   "cell_type": "code",
   "execution_count": 140,
   "id": "652d0edc",
   "metadata": {},
   "outputs": [
    {
     "data": {
      "text/plain": [
       "Index(['Age', 'Workclass', 'Fnlwgt', 'Education', 'Education_num',\n",
       "       'Marital_status', 'Occupation', 'Relationship', 'Race', 'Sex',\n",
       "       'Hours_per_week', 'Native_country', 'Income'],\n",
       "      dtype='object')"
      ]
     },
     "execution_count": 140,
     "metadata": {},
     "output_type": "execute_result"
    }
   ],
   "source": [
    "df.columns"
   ]
  },
  {
   "cell_type": "code",
   "execution_count": 141,
   "id": "bb9094b9",
   "metadata": {},
   "outputs": [
    {
     "data": {
      "text/plain": [
       "<AxesSubplot:title={'center':'Comparision of Age and Income'}, xlabel='Age', ylabel='Income'>"
      ]
     },
     "execution_count": 141,
     "metadata": {},
     "output_type": "execute_result"
    },
    {
     "data": {
      "image/png": "[encoded data removed]",
      "text/plain": [
       "<Figure size 432x216 with 1 Axes>"
      ]
     },
     "metadata": {
      "needs_background": "light"
     },
     "output_type": "display_data"
    }
   ],
   "source": [
    "# Check the relation between target Income and variable Age\n",
    "\n",
    "plt.figure(figsize = [6, 3])\n",
    "\n",
    "plt.title('Comparision of Age and Income')\n",
    "\n",
    "sns.barplot(df['Age'], df['Income'])"
   ]
  },
  {
   "cell_type": "markdown",
   "id": "64fcc638",
   "metadata": {},
   "source": [
    "The older age group has income more then 50K"
   ]
  },
  {
   "cell_type": "code",
   "execution_count": 142,
   "id": "e599b045",
   "metadata": {},
   "outputs": [
    {
     "data": {
      "image/png": "[encoded data removed]",
      "text/plain": [
       "<Figure size 720x432 with 1 Axes>"
      ]
     },
     "metadata": {
      "needs_background": "light"
     },
     "output_type": "display_data"
    }
   ],
   "source": [
    "#Checking the relation between target Income and variable Workclass\n",
    "\n",
    "plt.figure(figsize = (10, 6))\n",
    "\n",
    "sns.countplot(df['Workclass'], hue = df['Income'])\n",
    "\n",
    "plt.title('Comparision of Workclass and Income')\n",
    "\n",
    "plt.show()"
   ]
  },
  {
   "cell_type": "markdown",
   "id": "9d6806af",
   "metadata": {},
   "source": [
    "The people working in the private sectors have income <=50K and only few people in the same sector have income >50K. Also the people who never worked have no income."
   ]
  },
  {
   "cell_type": "code",
   "execution_count": 143,
   "id": "320efe67",
   "metadata": {},
   "outputs": [
    {
     "data": {
      "image/png": "[encoded data removed]",
      "text/plain": [
       "<Figure size 432x288 with 1 Axes>"
      ]
     },
     "metadata": {
      "needs_background": "light"
     },
     "output_type": "display_data"
    }
   ],
   "source": [
    "# Final weight with income\n",
    "\n",
    "sns.stripplot(df['Income'], df['Fnlwgt'], data = df)\n",
    "\n",
    "plt.title('Comparision of Income and Final weight')\n",
    "\n",
    "plt.show()"
   ]
  },
  {
   "cell_type": "markdown",
   "id": "7987c9b5",
   "metadata": {},
   "source": [
    "There is no significant relation between final weight and income of the people."
   ]
  },
  {
   "cell_type": "code",
   "execution_count": 144,
   "id": "00c08d73",
   "metadata": {},
   "outputs": [
    {
     "data": {
      "image/png": "[encoded data removed]",
      "text/plain": [
       "<Figure size 720x432 with 1 Axes>"
      ]
     },
     "metadata": {
      "needs_background": "light"
     },
     "output_type": "display_data"
    }
   ],
   "source": [
    "# The relation between Education and Income\n",
    "\n",
    "plt.figure(figsize = (10, 6))\n",
    "\n",
    "sns.countplot(df['Education'], hue = df['Income'])\n",
    "\n",
    "plt.title('Comparision of Education and Income')\n",
    "\n",
    "plt.xticks(rotation = 90)\n",
    "\n",
    "plt.show()"
   ]
  },
  {
   "cell_type": "markdown",
   "id": "09fee0e5",
   "metadata": {},
   "source": [
    "The people who completed their high school have income <=50K followed by the people who done their Secondary School. Also the people who done their Graduation they are earning income >50K."
   ]
  },
  {
   "cell_type": "code",
   "execution_count": 145,
   "id": "c87d83ba",
   "metadata": {},
   "outputs": [
    {
     "data": {
      "image/png": "[encoded data removed]",
      "text/plain": [
       "<Figure size 435.25x360 with 1 Axes>"
      ]
     },
     "metadata": {
      "needs_background": "light"
     },
     "output_type": "display_data"
    }
   ],
   "source": [
    "# The number of education_num with income\n",
    "\n",
    "sns.catplot(x = 'Income', y = 'Education_num', data = df, kind = 'bar', hue = 'Sex', palette = 'husl')\n",
    "\n",
    "plt.title('Comparision of Income and Education_num')\n",
    "\n",
    "plt.show()"
   ]
  },
  {
   "cell_type": "markdown",
   "id": "b6351125",
   "metadata": {},
   "source": [
    "The Income is more than 50K for the people having high education number. Here both gender have the income more than 50K."
   ]
  },
  {
   "cell_type": "code",
   "execution_count": 146,
   "id": "6bc439f3",
   "metadata": {},
   "outputs": [
    {
     "data": {
      "text/plain": [
       "<Figure size 72x216 with 0 Axes>"
      ]
     },
     "metadata": {},
     "output_type": "display_data"
    },
    {
     "data": {
      "image/png": "[encoded data removed]",
      "text/plain": [
       "<Figure size 1080x360 with 3 Axes>"
      ]
     },
     "metadata": {
      "needs_background": "light"
     },
     "output_type": "display_data"
    }
   ],
   "source": [
    "# Visualizing the relation between Marital status and Income\n",
    "\n",
    "plt.figure(figsize = (1, 3))\n",
    "\n",
    "sns.catplot(x = 'Income', col = 'Marital_status', data = df, kind = 'count', palette = 'Set1')\n",
    "\n",
    "plt.show()"
   ]
  },
  {
   "cell_type": "markdown",
   "id": "ad0733e3",
   "metadata": {},
   "source": [
    "Married population have income >50K compare to others."
   ]
  },
  {
   "cell_type": "code",
   "execution_count": 148,
   "id": "ff26dac3",
   "metadata": {},
   "outputs": [
    {
     "data": {
      "image/png": "[encoded data removed]",
      "text/plain": [
       "<Figure size 720x432 with 1 Axes>"
      ]
     },
     "metadata": {
      "needs_background": "light"
     },
     "output_type": "display_data"
    }
   ],
   "source": [
    "# The relation between Occupation and Income\n",
    "\n",
    "plt.figure(figsize = (10, 6))\n",
    "\n",
    "sns.countplot(df['Occupation'], hue = df['Income'], palette = 'Set1')\n",
    "\n",
    "plt.title('Comparision of Occupation and Income')\n",
    "\n",
    "plt.xticks(rotation = 90)\n",
    "\n",
    "plt.show()"
   ]
  },
  {
   "cell_type": "markdown",
   "id": "86235475",
   "metadata": {},
   "source": [
    "Population belonging to Prof-speciality and Exce-managerial have the income more than 50K."
   ]
  },
  {
   "cell_type": "code",
   "execution_count": 152,
   "id": "07b5436f",
   "metadata": {},
   "outputs": [
    {
     "data": {
      "image/png": "[encoded data removed]",
      "text/plain": [
       "<Figure size 720x432 with 1 Axes>"
      ]
     },
     "metadata": {
      "needs_background": "light"
     },
     "output_type": "display_data"
    }
   ],
   "source": [
    "# The relation between Relationship and Income\n",
    "\n",
    "plt.figure(figsize = (10, 6))\n",
    "\n",
    "sns.countplot(df['Relationship'], hue = df['Income'], data = df, palette = 'Set1')\n",
    "\n",
    "plt.title('Comparision of Relationship and Income')\n",
    "\n",
    "plt.xticks(rotation = 90)\n",
    "\n",
    "plt.show()"
   ]
  },
  {
   "cell_type": "markdown",
   "id": "6a35e9f0",
   "metadata": {},
   "source": [
    "Population in relationship as Husband have relatively higher income"
   ]
  },
  {
   "cell_type": "code",
   "execution_count": 154,
   "id": "109b63da",
   "metadata": {},
   "outputs": [
    {
     "data": {
      "image/png": "[encoded data removed]",
      "text/plain": [
       "<Figure size 720x432 with 1 Axes>"
      ]
     },
     "metadata": {
      "needs_background": "light"
     },
     "output_type": "display_data"
    }
   ],
   "source": [
    "# The relation between Race and Income\n",
    "\n",
    "plt.figure(figsize = (10, 6))\n",
    "\n",
    "sns.countplot(df['Race'], hue = df['Income'], data = df, palette = 'mako')\n",
    "\n",
    "plt.title('Comparision of Race and Income')\n",
    "\n",
    "plt.xticks(rotation = 90)\n",
    "\n",
    "plt.show()"
   ]
  },
  {
   "cell_type": "markdown",
   "id": "98efdbf8",
   "metadata": {},
   "source": [
    "The white family groups have high income >50K compare to other groups."
   ]
  },
  {
   "cell_type": "code",
   "execution_count": 155,
   "id": "34e31e18",
   "metadata": {},
   "outputs": [
    {
     "data": {
      "image/png": "[encoded data removed]",
      "text/plain": [
       "<Figure size 720x360 with 2 Axes>"
      ]
     },
     "metadata": {
      "needs_background": "light"
     },
     "output_type": "display_data"
    }
   ],
   "source": [
    "# The relation between Income and Sex groups\n",
    "\n",
    "sns.catplot(x = 'Income', col = 'Sex', data = df, kind = 'count', palette = 'rocket')\n",
    "\n",
    "plt.show()"
   ]
  },
  {
   "cell_type": "markdown",
   "id": "05058443",
   "metadata": {},
   "source": [
    "The income of Male is above 50K compared to the female."
   ]
  },
  {
   "cell_type": "code",
   "execution_count": 158,
   "id": "0f99cae7",
   "metadata": {},
   "outputs": [
    {
     "data": {
      "image/png": "[encoded data removed]",
      "text/plain": [
       "<Figure size 432x288 with 1 Axes>"
      ]
     },
     "metadata": {
      "needs_background": "light"
     },
     "output_type": "display_data"
    }
   ],
   "source": [
    "# The number of Hours per week with income\n",
    "\n",
    "sns.barplot(x = 'Income', y = 'Hours_per_week', data = df, hue = \"Sex\", palette = 'coolwarm');\n",
    "\n",
    "plt.title('Comparision of Income and Hours per week')\n",
    "\n",
    "plt.show()"
   ]
  },
  {
   "cell_type": "markdown",
   "id": "3bcee8ba",
   "metadata": {},
   "source": [
    "This shows how the income is related to the hours per week. The income is >50K when the Hours is high for both male and female."
   ]
  },
  {
   "cell_type": "code",
   "execution_count": 159,
   "id": "622a2adb",
   "metadata": {},
   "outputs": [
    {
     "data": {
      "image/png": "[encoded data removed]",
      "text/plain": [
       "<Figure size 1080x432 with 1 Axes>"
      ]
     },
     "metadata": {
      "needs_background": "light"
     },
     "output_type": "display_data"
    }
   ],
   "source": [
    "# Visualizing the relation between Native country and Income\n",
    "\n",
    "plt.figure(figsize = (15, 6))\n",
    "\n",
    "sns.countplot(df['Native_country'], hue = df['Income'] )\n",
    "\n",
    "plt.title('Comparision of Native_country and Income')\n",
    "\n",
    "plt.xticks(rotation = 90)\n",
    "\n",
    "plt.show()"
   ]
  },
  {
   "cell_type": "markdown",
   "id": "4bacb70d",
   "metadata": {},
   "source": [
    "Clearly United States earns more income compared to all the other countries."
   ]
  },
  {
   "cell_type": "markdown",
   "id": "4967ec7f",
   "metadata": {},
   "source": [
    "# Identifying the outliers"
   ]
  },
  {
   "cell_type": "code",
   "execution_count": 160,
   "id": "b80dbdb0",
   "metadata": {},
   "outputs": [
    {
     "data": {
      "image/png": "[encoded data removed]",
      "text/plain": [
       "<Figure size 720x576 with 4 Axes>"
      ]
     },
     "metadata": {},
     "output_type": "display_data"
    }
   ],
   "source": [
    "# Identifying the outliers using boxplot\n",
    "\n",
    "plt.figure(figsize = (10, 8), facecolor = 'white')\n",
    "\n",
    "plotnumber = 1\n",
    "\n",
    "for column in num_col:\n",
    "    if plotnumber <= 4:\n",
    "        ax = plt.subplot(2, 2, plotnumber)\n",
    "        sns.boxplot(df[column])\n",
    "        plt.xlabel(column, fontsize = 12)\n",
    "    plotnumber += 1\n",
    "plt.tight_layout()"
   ]
  },
  {
   "cell_type": "markdown",
   "id": "1e4e9f66",
   "metadata": {},
   "source": [
    "There are outliers present in all the columns. We will remove it using Zscore method."
   ]
  },
  {
   "cell_type": "markdown",
   "id": "74ef11f9",
   "metadata": {},
   "source": [
    "# Removing outliers"
   ]
  },
  {
   "cell_type": "code",
   "execution_count": 161,
   "id": "bc0076c7",
   "metadata": {},
   "outputs": [
    {
     "data": {
      "text/html": [
       "<div>\n",
       "<style scoped>\n",
       "    .dataframe tbody tr th:only-of-type {\n",
       "        vertical-align: middle;\n",
       "    }\n",
       "\n",
       "    .dataframe tbody tr th {\n",
       "        vertical-align: top;\n",
       "    }\n",
       "\n",
       "    .dataframe thead th {\n",
       "        text-align: right;\n",
       "    }\n",
       "</style>\n",
       "<table border=\"1\" class=\"dataframe\">\n",
       "  <thead>\n",
       "    <tr style=\"text-align: right;\">\n",
       "      <th></th>\n",
       "      <th>Age</th>\n",
       "      <th>Fnlwgt</th>\n",
       "      <th>Education_num</th>\n",
       "      <th>Hours_per_week</th>\n",
       "    </tr>\n",
       "  </thead>\n",
       "  <tbody>\n",
       "    <tr>\n",
       "      <th>0</th>\n",
       "      <td>0.837097</td>\n",
       "      <td>1.008742</td>\n",
       "      <td>1.134779</td>\n",
       "      <td>2.222120</td>\n",
       "    </tr>\n",
       "    <tr>\n",
       "      <th>1</th>\n",
       "      <td>0.042640</td>\n",
       "      <td>0.245046</td>\n",
       "      <td>0.420027</td>\n",
       "      <td>0.035430</td>\n",
       "    </tr>\n",
       "    <tr>\n",
       "      <th>2</th>\n",
       "      <td>1.057031</td>\n",
       "      <td>0.425770</td>\n",
       "      <td>1.197429</td>\n",
       "      <td>0.035430</td>\n",
       "    </tr>\n",
       "    <tr>\n",
       "      <th>3</th>\n",
       "      <td>0.775755</td>\n",
       "      <td>1.408146</td>\n",
       "      <td>1.134779</td>\n",
       "      <td>0.035430</td>\n",
       "    </tr>\n",
       "    <tr>\n",
       "      <th>4</th>\n",
       "      <td>0.115952</td>\n",
       "      <td>0.898170</td>\n",
       "      <td>1.523480</td>\n",
       "      <td>0.035430</td>\n",
       "    </tr>\n",
       "    <tr>\n",
       "      <th>...</th>\n",
       "      <td>...</td>\n",
       "      <td>...</td>\n",
       "      <td>...</td>\n",
       "      <td>...</td>\n",
       "    </tr>\n",
       "    <tr>\n",
       "      <th>32555</th>\n",
       "      <td>0.849066</td>\n",
       "      <td>0.639710</td>\n",
       "      <td>0.746077</td>\n",
       "      <td>0.197407</td>\n",
       "    </tr>\n",
       "    <tr>\n",
       "      <th>32556</th>\n",
       "      <td>0.103982</td>\n",
       "      <td>0.335466</td>\n",
       "      <td>0.420027</td>\n",
       "      <td>0.035430</td>\n",
       "    </tr>\n",
       "    <tr>\n",
       "      <th>32557</th>\n",
       "      <td>1.423589</td>\n",
       "      <td>0.358811</td>\n",
       "      <td>0.420027</td>\n",
       "      <td>0.035430</td>\n",
       "    </tr>\n",
       "    <tr>\n",
       "      <th>32558</th>\n",
       "      <td>1.215624</td>\n",
       "      <td>0.110927</td>\n",
       "      <td>0.420027</td>\n",
       "      <td>1.655200</td>\n",
       "    </tr>\n",
       "    <tr>\n",
       "      <th>32559</th>\n",
       "      <td>0.983720</td>\n",
       "      <td>0.929862</td>\n",
       "      <td>0.420027</td>\n",
       "      <td>0.035430</td>\n",
       "    </tr>\n",
       "  </tbody>\n",
       "</table>\n",
       "<p>32560 rows × 4 columns</p>\n",
       "</div>"
      ],
      "text/plain": [
       "            Age    Fnlwgt  Education_num  Hours_per_week\n",
       "0      0.837097  1.008742       1.134779        2.222120\n",
       "1      0.042640  0.245046       0.420027        0.035430\n",
       "2      1.057031  0.425770       1.197429        0.035430\n",
       "3      0.775755  1.408146       1.134779        0.035430\n",
       "4      0.115952  0.898170       1.523480        0.035430\n",
       "...         ...       ...            ...             ...\n",
       "32555  0.849066  0.639710       0.746077        0.197407\n",
       "32556  0.103982  0.335466       0.420027        0.035430\n",
       "32557  1.423589  0.358811       0.420027        0.035430\n",
       "32558  1.215624  0.110927       0.420027        1.655200\n",
       "32559  0.983720  0.929862       0.420027        0.035430\n",
       "\n",
       "[32560 rows x 4 columns]"
      ]
     },
     "execution_count": 161,
     "metadata": {},
     "output_type": "execute_result"
    }
   ],
   "source": [
    "features = df[['Age', 'Fnlwgt', 'Education_num', 'Hours_per_week']]\n",
    "\n",
    "z = np.abs(zscore(features))\n",
    "\n",
    "z"
   ]
  },
  {
   "cell_type": "code",
   "execution_count": 162,
   "id": "3e500d55",
   "metadata": {},
   "outputs": [
    {
     "data": {
      "text/html": [
       "<div>\n",
       "<style scoped>\n",
       "    .dataframe tbody tr th:only-of-type {\n",
       "        vertical-align: middle;\n",
       "    }\n",
       "\n",
       "    .dataframe tbody tr th {\n",
       "        vertical-align: top;\n",
       "    }\n",
       "\n",
       "    .dataframe thead th {\n",
       "        text-align: right;\n",
       "    }\n",
       "</style>\n",
       "<table border=\"1\" class=\"dataframe\">\n",
       "  <thead>\n",
       "    <tr style=\"text-align: right;\">\n",
       "      <th></th>\n",
       "      <th>Age</th>\n",
       "      <th>Workclass</th>\n",
       "      <th>Fnlwgt</th>\n",
       "      <th>Education</th>\n",
       "      <th>Education_num</th>\n",
       "      <th>Marital_status</th>\n",
       "      <th>Occupation</th>\n",
       "      <th>Relationship</th>\n",
       "      <th>Race</th>\n",
       "      <th>Sex</th>\n",
       "      <th>Hours_per_week</th>\n",
       "      <th>Native_country</th>\n",
       "      <th>Income</th>\n",
       "    </tr>\n",
       "  </thead>\n",
       "  <tbody>\n",
       "    <tr>\n",
       "      <th>0</th>\n",
       "      <td>50</td>\n",
       "      <td>Pvt-sector</td>\n",
       "      <td>83311</td>\n",
       "      <td>Under_Graduation</td>\n",
       "      <td>13</td>\n",
       "      <td>Married</td>\n",
       "      <td>Exec-managerial</td>\n",
       "      <td>Husband</td>\n",
       "      <td>White</td>\n",
       "      <td>Male</td>\n",
       "      <td>13</td>\n",
       "      <td>United-States</td>\n",
       "      <td>&lt;=50K</td>\n",
       "    </tr>\n",
       "    <tr>\n",
       "      <th>1</th>\n",
       "      <td>38</td>\n",
       "      <td>Pvt-sector</td>\n",
       "      <td>215646</td>\n",
       "      <td>High-School</td>\n",
       "      <td>9</td>\n",
       "      <td>Others</td>\n",
       "      <td>Handlers-cleaners</td>\n",
       "      <td>Not-in-family</td>\n",
       "      <td>White</td>\n",
       "      <td>Male</td>\n",
       "      <td>40</td>\n",
       "      <td>United-States</td>\n",
       "      <td>&lt;=50K</td>\n",
       "    </tr>\n",
       "    <tr>\n",
       "      <th>2</th>\n",
       "      <td>53</td>\n",
       "      <td>Pvt-sector</td>\n",
       "      <td>234721</td>\n",
       "      <td>School</td>\n",
       "      <td>7</td>\n",
       "      <td>Married</td>\n",
       "      <td>Handlers-cleaners</td>\n",
       "      <td>Husband</td>\n",
       "      <td>Black</td>\n",
       "      <td>Male</td>\n",
       "      <td>40</td>\n",
       "      <td>United-States</td>\n",
       "      <td>&lt;=50K</td>\n",
       "    </tr>\n",
       "    <tr>\n",
       "      <th>3</th>\n",
       "      <td>28</td>\n",
       "      <td>Pvt-sector</td>\n",
       "      <td>338409</td>\n",
       "      <td>Under_Graduation</td>\n",
       "      <td>13</td>\n",
       "      <td>Married</td>\n",
       "      <td>Prof-specialty</td>\n",
       "      <td>Wife</td>\n",
       "      <td>Black</td>\n",
       "      <td>Female</td>\n",
       "      <td>40</td>\n",
       "      <td>Cuba</td>\n",
       "      <td>&lt;=50K</td>\n",
       "    </tr>\n",
       "    <tr>\n",
       "      <th>4</th>\n",
       "      <td>37</td>\n",
       "      <td>Pvt-sector</td>\n",
       "      <td>284582</td>\n",
       "      <td>Post_Graduation</td>\n",
       "      <td>14</td>\n",
       "      <td>Married</td>\n",
       "      <td>Exec-managerial</td>\n",
       "      <td>Wife</td>\n",
       "      <td>White</td>\n",
       "      <td>Female</td>\n",
       "      <td>40</td>\n",
       "      <td>United-States</td>\n",
       "      <td>&lt;=50K</td>\n",
       "    </tr>\n",
       "    <tr>\n",
       "      <th>...</th>\n",
       "      <td>...</td>\n",
       "      <td>...</td>\n",
       "      <td>...</td>\n",
       "      <td>...</td>\n",
       "      <td>...</td>\n",
       "      <td>...</td>\n",
       "      <td>...</td>\n",
       "      <td>...</td>\n",
       "      <td>...</td>\n",
       "      <td>...</td>\n",
       "      <td>...</td>\n",
       "      <td>...</td>\n",
       "      <td>...</td>\n",
       "    </tr>\n",
       "    <tr>\n",
       "      <th>32555</th>\n",
       "      <td>27</td>\n",
       "      <td>Pvt-sector</td>\n",
       "      <td>257302</td>\n",
       "      <td>Secondary-School</td>\n",
       "      <td>12</td>\n",
       "      <td>Married</td>\n",
       "      <td>Tech-support</td>\n",
       "      <td>Wife</td>\n",
       "      <td>White</td>\n",
       "      <td>Female</td>\n",
       "      <td>38</td>\n",
       "      <td>United-States</td>\n",
       "      <td>&lt;=50K</td>\n",
       "    </tr>\n",
       "    <tr>\n",
       "      <th>32556</th>\n",
       "      <td>40</td>\n",
       "      <td>Pvt-sector</td>\n",
       "      <td>154374</td>\n",
       "      <td>High-School</td>\n",
       "      <td>9</td>\n",
       "      <td>Married</td>\n",
       "      <td>Machine-op-inspct</td>\n",
       "      <td>Husband</td>\n",
       "      <td>White</td>\n",
       "      <td>Male</td>\n",
       "      <td>40</td>\n",
       "      <td>United-States</td>\n",
       "      <td>&gt;50K</td>\n",
       "    </tr>\n",
       "    <tr>\n",
       "      <th>32557</th>\n",
       "      <td>58</td>\n",
       "      <td>Pvt-sector</td>\n",
       "      <td>151910</td>\n",
       "      <td>High-School</td>\n",
       "      <td>9</td>\n",
       "      <td>Others</td>\n",
       "      <td>Adm-clerical</td>\n",
       "      <td>Unmarried</td>\n",
       "      <td>White</td>\n",
       "      <td>Female</td>\n",
       "      <td>40</td>\n",
       "      <td>United-States</td>\n",
       "      <td>&lt;=50K</td>\n",
       "    </tr>\n",
       "    <tr>\n",
       "      <th>32558</th>\n",
       "      <td>22</td>\n",
       "      <td>Pvt-sector</td>\n",
       "      <td>201490</td>\n",
       "      <td>High-School</td>\n",
       "      <td>9</td>\n",
       "      <td>Single</td>\n",
       "      <td>Adm-clerical</td>\n",
       "      <td>Own-child</td>\n",
       "      <td>White</td>\n",
       "      <td>Male</td>\n",
       "      <td>20</td>\n",
       "      <td>United-States</td>\n",
       "      <td>&lt;=50K</td>\n",
       "    </tr>\n",
       "    <tr>\n",
       "      <th>32559</th>\n",
       "      <td>52</td>\n",
       "      <td>Pvt-sector</td>\n",
       "      <td>287927</td>\n",
       "      <td>High-School</td>\n",
       "      <td>9</td>\n",
       "      <td>Married</td>\n",
       "      <td>Exec-managerial</td>\n",
       "      <td>Wife</td>\n",
       "      <td>White</td>\n",
       "      <td>Female</td>\n",
       "      <td>40</td>\n",
       "      <td>United-States</td>\n",
       "      <td>&gt;50K</td>\n",
       "    </tr>\n",
       "  </tbody>\n",
       "</table>\n",
       "<p>31461 rows × 13 columns</p>\n",
       "</div>"
      ],
      "text/plain": [
       "       Age    Workclass  Fnlwgt          Education  Education_num  \\\n",
       "0       50   Pvt-sector   83311   Under_Graduation             13   \n",
       "1       38   Pvt-sector  215646        High-School              9   \n",
       "2       53   Pvt-sector  234721             School              7   \n",
       "3       28   Pvt-sector  338409   Under_Graduation             13   \n",
       "4       37   Pvt-sector  284582    Post_Graduation             14   \n",
       "...    ...          ...     ...                ...            ...   \n",
       "32555   27   Pvt-sector  257302   Secondary-School             12   \n",
       "32556   40   Pvt-sector  154374        High-School              9   \n",
       "32557   58   Pvt-sector  151910        High-School              9   \n",
       "32558   22   Pvt-sector  201490        High-School              9   \n",
       "32559   52   Pvt-sector  287927        High-School              9   \n",
       "\n",
       "      Marital_status          Occupation    Relationship    Race      Sex  \\\n",
       "0            Married     Exec-managerial         Husband   White     Male   \n",
       "1             Others   Handlers-cleaners   Not-in-family   White     Male   \n",
       "2            Married   Handlers-cleaners         Husband   Black     Male   \n",
       "3            Married      Prof-specialty            Wife   Black   Female   \n",
       "4            Married     Exec-managerial            Wife   White   Female   \n",
       "...              ...                 ...             ...     ...      ...   \n",
       "32555        Married        Tech-support            Wife   White   Female   \n",
       "32556        Married   Machine-op-inspct         Husband   White     Male   \n",
       "32557         Others        Adm-clerical       Unmarried   White   Female   \n",
       "32558         Single        Adm-clerical       Own-child   White     Male   \n",
       "32559        Married     Exec-managerial            Wife   White   Female   \n",
       "\n",
       "       Hours_per_week  Native_country  Income  \n",
       "0                  13   United-States   <=50K  \n",
       "1                  40   United-States   <=50K  \n",
       "2                  40   United-States   <=50K  \n",
       "3                  40            Cuba   <=50K  \n",
       "4                  40   United-States   <=50K  \n",
       "...               ...             ...     ...  \n",
       "32555              38   United-States   <=50K  \n",
       "32556              40   United-States    >50K  \n",
       "32557              40   United-States   <=50K  \n",
       "32558              20   United-States   <=50K  \n",
       "32559              40   United-States    >50K  \n",
       "\n",
       "[31461 rows x 13 columns]"
      ]
     },
     "execution_count": 162,
     "metadata": {},
     "output_type": "execute_result"
    }
   ],
   "source": [
    "# Creating new dataframe\n",
    "\n",
    "new_df = df[(z<3).all(axis = 1)] \n",
    "\n",
    "new_df"
   ]
  },
  {
   "cell_type": "code",
   "execution_count": 163,
   "id": "b484771d",
   "metadata": {},
   "outputs": [
    {
     "data": {
      "text/plain": [
       "(32560, 13)"
      ]
     },
     "execution_count": 163,
     "metadata": {},
     "output_type": "execute_result"
    }
   ],
   "source": [
    "df.shape"
   ]
  },
  {
   "cell_type": "code",
   "execution_count": 164,
   "id": "e871b96c",
   "metadata": {},
   "outputs": [
    {
     "data": {
      "text/plain": [
       "(31461, 13)"
      ]
     },
     "execution_count": 164,
     "metadata": {},
     "output_type": "execute_result"
    }
   ],
   "source": [
    "new_df.shape"
   ]
  },
  {
   "cell_type": "markdown",
   "id": "28df2d6b",
   "metadata": {},
   "source": [
    "# Checking the skewness of the dataset"
   ]
  },
  {
   "cell_type": "code",
   "execution_count": 165,
   "id": "66789369",
   "metadata": {},
   "outputs": [
    {
     "data": {
      "text/plain": [
       "Hours_per_week   -0.341724\n",
       "Education_num    -0.159752\n",
       "Age               0.472279\n",
       "Fnlwgt            0.634828\n",
       "dtype: float64"
      ]
     },
     "execution_count": 165,
     "metadata": {},
     "output_type": "execute_result"
    }
   ],
   "source": [
    "new_df.skew().sort_values()"
   ]
  },
  {
   "cell_type": "markdown",
   "id": "a7de07a1",
   "metadata": {},
   "source": [
    "There is skewness only in the Final Weight column"
   ]
  },
  {
   "cell_type": "markdown",
   "id": "573e65bb",
   "metadata": {},
   "source": [
    "# Removig the skewness"
   ]
  },
  {
   "cell_type": "code",
   "execution_count": 166,
   "id": "1bc99b53",
   "metadata": {},
   "outputs": [],
   "source": [
    "new_df['Fnlwgt'] = np.cbrt(df['Fnlwgt'])"
   ]
  },
  {
   "cell_type": "code",
   "execution_count": 167,
   "id": "5b7cdeb7",
   "metadata": {},
   "outputs": [
    {
     "data": {
      "text/plain": [
       "Fnlwgt           -0.376609\n",
       "Hours_per_week   -0.341724\n",
       "Education_num    -0.159752\n",
       "Age               0.472279\n",
       "dtype: float64"
      ]
     },
     "execution_count": 167,
     "metadata": {},
     "output_type": "execute_result"
    }
   ],
   "source": [
    "new_df.skew().sort_values()"
   ]
  },
  {
   "cell_type": "code",
   "execution_count": 168,
   "id": "0388e9b6",
   "metadata": {},
   "outputs": [
    {
     "data": {
      "text/plain": [
       "<AxesSubplot:xlabel='Fnlwgt', ylabel='Density'>"
      ]
     },
     "execution_count": 168,
     "metadata": {},
     "output_type": "execute_result"
    },
    {
     "data": {
      "image/png": "[encoded data removed]",
      "text/plain": [
       "<Figure size 432x288 with 1 Axes>"
      ]
     },
     "metadata": {
      "needs_background": "light"
     },
     "output_type": "display_data"
    }
   ],
   "source": [
    "sns.distplot(new_df['Fnlwgt'], color = 'green', kde_kws = {'shade': True}, hist = False)"
   ]
  },
  {
   "cell_type": "markdown",
   "id": "3da2b8b5",
   "metadata": {},
   "source": [
    "The data looks normalized then before"
   ]
  },
  {
   "cell_type": "markdown",
   "id": "10920274",
   "metadata": {},
   "source": [
    "# Encoding the categorical columns using Label Encoding"
   ]
  },
  {
   "cell_type": "code",
   "execution_count": 170,
   "id": "7065ac29",
   "metadata": {},
   "outputs": [],
   "source": [
    "categorical_col = ['Workclass', 'Education', 'Marital_status', 'Occupation', 'Relationship', 'Race', 'Sex', 'Native_country', 'Income']\n",
    "\n",
    "LE = LabelEncoder()\n",
    "new_df[categorical_col]= new_df[categorical_col].apply(LE.fit_transform)"
   ]
  },
  {
   "cell_type": "code",
   "execution_count": 171,
   "id": "8907d819",
   "metadata": {},
   "outputs": [
    {
     "data": {
      "text/html": [
       "<div>\n",
       "<style scoped>\n",
       "    .dataframe tbody tr th:only-of-type {\n",
       "        vertical-align: middle;\n",
       "    }\n",
       "\n",
       "    .dataframe tbody tr th {\n",
       "        vertical-align: top;\n",
       "    }\n",
       "\n",
       "    .dataframe thead th {\n",
       "        text-align: right;\n",
       "    }\n",
       "</style>\n",
       "<table border=\"1\" class=\"dataframe\">\n",
       "  <thead>\n",
       "    <tr style=\"text-align: right;\">\n",
       "      <th></th>\n",
       "      <th>Workclass</th>\n",
       "      <th>Education</th>\n",
       "      <th>Marital_status</th>\n",
       "      <th>Occupation</th>\n",
       "      <th>Relationship</th>\n",
       "      <th>Race</th>\n",
       "      <th>Sex</th>\n",
       "      <th>Native_country</th>\n",
       "      <th>Income</th>\n",
       "    </tr>\n",
       "  </thead>\n",
       "  <tbody>\n",
       "    <tr>\n",
       "      <th>0</th>\n",
       "      <td>1</td>\n",
       "      <td>3</td>\n",
       "      <td>0</td>\n",
       "      <td>3</td>\n",
       "      <td>0</td>\n",
       "      <td>4</td>\n",
       "      <td>1</td>\n",
       "      <td>38</td>\n",
       "      <td>0</td>\n",
       "    </tr>\n",
       "    <tr>\n",
       "      <th>1</th>\n",
       "      <td>1</td>\n",
       "      <td>0</td>\n",
       "      <td>1</td>\n",
       "      <td>5</td>\n",
       "      <td>1</td>\n",
       "      <td>4</td>\n",
       "      <td>1</td>\n",
       "      <td>38</td>\n",
       "      <td>0</td>\n",
       "    </tr>\n",
       "    <tr>\n",
       "      <th>2</th>\n",
       "      <td>1</td>\n",
       "      <td>5</td>\n",
       "      <td>0</td>\n",
       "      <td>5</td>\n",
       "      <td>0</td>\n",
       "      <td>2</td>\n",
       "      <td>1</td>\n",
       "      <td>38</td>\n",
       "      <td>0</td>\n",
       "    </tr>\n",
       "    <tr>\n",
       "      <th>3</th>\n",
       "      <td>1</td>\n",
       "      <td>3</td>\n",
       "      <td>0</td>\n",
       "      <td>9</td>\n",
       "      <td>5</td>\n",
       "      <td>2</td>\n",
       "      <td>0</td>\n",
       "      <td>4</td>\n",
       "      <td>0</td>\n",
       "    </tr>\n",
       "    <tr>\n",
       "      <th>4</th>\n",
       "      <td>1</td>\n",
       "      <td>4</td>\n",
       "      <td>0</td>\n",
       "      <td>3</td>\n",
       "      <td>5</td>\n",
       "      <td>4</td>\n",
       "      <td>0</td>\n",
       "      <td>38</td>\n",
       "      <td>0</td>\n",
       "    </tr>\n",
       "    <tr>\n",
       "      <th>...</th>\n",
       "      <td>...</td>\n",
       "      <td>...</td>\n",
       "      <td>...</td>\n",
       "      <td>...</td>\n",
       "      <td>...</td>\n",
       "      <td>...</td>\n",
       "      <td>...</td>\n",
       "      <td>...</td>\n",
       "      <td>...</td>\n",
       "    </tr>\n",
       "    <tr>\n",
       "      <th>32555</th>\n",
       "      <td>1</td>\n",
       "      <td>2</td>\n",
       "      <td>0</td>\n",
       "      <td>12</td>\n",
       "      <td>5</td>\n",
       "      <td>4</td>\n",
       "      <td>0</td>\n",
       "      <td>38</td>\n",
       "      <td>0</td>\n",
       "    </tr>\n",
       "    <tr>\n",
       "      <th>32556</th>\n",
       "      <td>1</td>\n",
       "      <td>0</td>\n",
       "      <td>0</td>\n",
       "      <td>6</td>\n",
       "      <td>0</td>\n",
       "      <td>4</td>\n",
       "      <td>1</td>\n",
       "      <td>38</td>\n",
       "      <td>1</td>\n",
       "    </tr>\n",
       "    <tr>\n",
       "      <th>32557</th>\n",
       "      <td>1</td>\n",
       "      <td>0</td>\n",
       "      <td>1</td>\n",
       "      <td>0</td>\n",
       "      <td>4</td>\n",
       "      <td>4</td>\n",
       "      <td>0</td>\n",
       "      <td>38</td>\n",
       "      <td>0</td>\n",
       "    </tr>\n",
       "    <tr>\n",
       "      <th>32558</th>\n",
       "      <td>1</td>\n",
       "      <td>0</td>\n",
       "      <td>2</td>\n",
       "      <td>0</td>\n",
       "      <td>3</td>\n",
       "      <td>4</td>\n",
       "      <td>1</td>\n",
       "      <td>38</td>\n",
       "      <td>0</td>\n",
       "    </tr>\n",
       "    <tr>\n",
       "      <th>32559</th>\n",
       "      <td>1</td>\n",
       "      <td>0</td>\n",
       "      <td>0</td>\n",
       "      <td>3</td>\n",
       "      <td>5</td>\n",
       "      <td>4</td>\n",
       "      <td>0</td>\n",
       "      <td>38</td>\n",
       "      <td>1</td>\n",
       "    </tr>\n",
       "  </tbody>\n",
       "</table>\n",
       "<p>31461 rows × 9 columns</p>\n",
       "</div>"
      ],
      "text/plain": [
       "       Workclass  Education  Marital_status  Occupation  Relationship  Race  \\\n",
       "0              1          3               0           3             0     4   \n",
       "1              1          0               1           5             1     4   \n",
       "2              1          5               0           5             0     2   \n",
       "3              1          3               0           9             5     2   \n",
       "4              1          4               0           3             5     4   \n",
       "...          ...        ...             ...         ...           ...   ...   \n",
       "32555          1          2               0          12             5     4   \n",
       "32556          1          0               0           6             0     4   \n",
       "32557          1          0               1           0             4     4   \n",
       "32558          1          0               2           0             3     4   \n",
       "32559          1          0               0           3             5     4   \n",
       "\n",
       "       Sex  Native_country  Income  \n",
       "0        1              38       0  \n",
       "1        1              38       0  \n",
       "2        1              38       0  \n",
       "3        0               4       0  \n",
       "4        0              38       0  \n",
       "...    ...             ...     ...  \n",
       "32555    0              38       0  \n",
       "32556    1              38       1  \n",
       "32557    0              38       0  \n",
       "32558    1              38       0  \n",
       "32559    0              38       1  \n",
       "\n",
       "[31461 rows x 9 columns]"
      ]
     },
     "execution_count": 171,
     "metadata": {},
     "output_type": "execute_result"
    }
   ],
   "source": [
    "new_df[categorical_col]"
   ]
  },
  {
   "cell_type": "markdown",
   "id": "78d53c04",
   "metadata": {},
   "source": [
    "Categorical columns has been encoded and ready for modelling"
   ]
  },
  {
   "cell_type": "markdown",
   "id": "66cfd9b9",
   "metadata": {},
   "source": [
    "# Checking Co-relation"
   ]
  },
  {
   "cell_type": "code",
   "execution_count": 172,
   "id": "50c00b6e",
   "metadata": {},
   "outputs": [
    {
     "data": {
      "text/plain": [
       "(array([ 0.5,  1.5,  2.5,  3.5,  4.5,  5.5,  6.5,  7.5,  8.5,  9.5, 10.5,\n",
       "        11.5, 12.5]),\n",
       " [Text(0, 0.5, 'Age'),\n",
       "  Text(0, 1.5, 'Workclass'),\n",
       "  Text(0, 2.5, 'Fnlwgt'),\n",
       "  Text(0, 3.5, 'Education'),\n",
       "  Text(0, 4.5, 'Education_num'),\n",
       "  Text(0, 5.5, 'Marital_status'),\n",
       "  Text(0, 6.5, 'Occupation'),\n",
       "  Text(0, 7.5, 'Relationship'),\n",
       "  Text(0, 8.5, 'Race'),\n",
       "  Text(0, 9.5, 'Sex'),\n",
       "  Text(0, 10.5, 'Hours_per_week'),\n",
       "  Text(0, 11.5, 'Native_country'),\n",
       "  Text(0, 12.5, 'Income')])"
      ]
     },
     "execution_count": 172,
     "metadata": {},
     "output_type": "execute_result"
    },
    {
     "data": {
      "image/png": "[encoded data removed]",
      "text/plain": [
       "<Figure size 1080x720 with 2 Axes>"
      ]
     },
     "metadata": {
      "needs_background": "light"
     },
     "output_type": "display_data"
    }
   ],
   "source": [
    "corr = new_df.corr()\n",
    "\n",
    "plt.figure(figsize=(15, 10))\n",
    "\n",
    "sns.heatmap(new_df.corr(), linewidths = 0.1, vmin = -1, vmax = 1, fmt = '.1g', annot = True, linecolor = 'black', annot_kws = {'size':10}, cmap = 'YlGnBu')\n",
    "\n",
    "plt.yticks(rotation=0)"
   ]
  },
  {
   "cell_type": "code",
   "execution_count": 173,
   "id": "1a9227e8",
   "metadata": {},
   "outputs": [
    {
     "data": {
      "text/plain": [
       "Income            1.000000\n",
       "Education_num     0.337595\n",
       "Age               0.248351\n",
       "Hours_per_week    0.242383\n",
       "Sex               0.216665\n",
       "Race              0.072451\n",
       "Occupation        0.034612\n",
       "Education         0.034278\n",
       "Native_country    0.017698\n",
       "Fnlwgt           -0.002780\n",
       "Workclass        -0.062963\n",
       "Relationship     -0.251506\n",
       "Marital_status   -0.425904\n",
       "Name: Income, dtype: float64"
      ]
     },
     "execution_count": 173,
     "metadata": {},
     "output_type": "execute_result"
    }
   ],
   "source": [
    "corr['Income'].sort_values(ascending = False)"
   ]
  },
  {
   "cell_type": "markdown",
   "id": "dbd8a992",
   "metadata": {},
   "source": [
    "It is understandable from the heatmap and the table the relation between features and target. Also the positive and negative relationship can be seen."
   ]
  },
  {
   "cell_type": "markdown",
   "id": "f17e47d4",
   "metadata": {},
   "source": [
    "# Seperating the features and target"
   ]
  },
  {
   "cell_type": "code",
   "execution_count": 174,
   "id": "10f141af",
   "metadata": {},
   "outputs": [],
   "source": [
    "x = new_df.drop('Income', axis = 1)\n",
    "\n",
    "y = new_df['Income']"
   ]
  },
  {
   "cell_type": "markdown",
   "id": "af0c9fde",
   "metadata": {},
   "source": [
    "# Feature Scaling using Standard Scalarization"
   ]
  },
  {
   "cell_type": "code",
   "execution_count": 175,
   "id": "026fd818",
   "metadata": {},
   "outputs": [
    {
     "data": {
      "text/html": [
       "<div>\n",
       "<style scoped>\n",
       "    .dataframe tbody tr th:only-of-type {\n",
       "        vertical-align: middle;\n",
       "    }\n",
       "\n",
       "    .dataframe tbody tr th {\n",
       "        vertical-align: top;\n",
       "    }\n",
       "\n",
       "    .dataframe thead th {\n",
       "        text-align: right;\n",
       "    }\n",
       "</style>\n",
       "<table border=\"1\" class=\"dataframe\">\n",
       "  <thead>\n",
       "    <tr style=\"text-align: right;\">\n",
       "      <th></th>\n",
       "      <th>Age</th>\n",
       "      <th>Workclass</th>\n",
       "      <th>Fnlwgt</th>\n",
       "      <th>Education</th>\n",
       "      <th>Education_num</th>\n",
       "      <th>Marital_status</th>\n",
       "      <th>Occupation</th>\n",
       "      <th>Relationship</th>\n",
       "      <th>Race</th>\n",
       "      <th>Sex</th>\n",
       "      <th>Hours_per_week</th>\n",
       "      <th>Native_country</th>\n",
       "    </tr>\n",
       "  </thead>\n",
       "  <tbody>\n",
       "    <tr>\n",
       "      <th>0</th>\n",
       "      <td>0.875057</td>\n",
       "      <td>0.392103</td>\n",
       "      <td>-1.102052</td>\n",
       "      <td>0.621080</td>\n",
       "      <td>1.154324</td>\n",
       "      <td>-0.990371</td>\n",
       "      <td>-0.784335</td>\n",
       "      <td>-0.903178</td>\n",
       "      <td>0.391304</td>\n",
       "      <td>0.706601</td>\n",
       "      <td>-2.424121</td>\n",
       "      <td>0.254062</td>\n",
       "    </tr>\n",
       "    <tr>\n",
       "      <th>1</th>\n",
       "      <td>-0.025350</td>\n",
       "      <td>0.392103</td>\n",
       "      <td>0.464976</td>\n",
       "      <td>-1.149684</td>\n",
       "      <td>-0.459657</td>\n",
       "      <td>0.147158</td>\n",
       "      <td>-0.282327</td>\n",
       "      <td>-0.281938</td>\n",
       "      <td>0.391304</td>\n",
       "      <td>0.706601</td>\n",
       "      <td>-0.008364</td>\n",
       "      <td>0.254062</td>\n",
       "    </tr>\n",
       "    <tr>\n",
       "      <th>2</th>\n",
       "      <td>1.100158</td>\n",
       "      <td>0.392103</td>\n",
       "      <td>0.630260</td>\n",
       "      <td>1.801589</td>\n",
       "      <td>-1.266647</td>\n",
       "      <td>-0.990371</td>\n",
       "      <td>-0.282327</td>\n",
       "      <td>-0.903178</td>\n",
       "      <td>-1.969806</td>\n",
       "      <td>0.706601</td>\n",
       "      <td>-0.008364</td>\n",
       "      <td>0.254062</td>\n",
       "    </tr>\n",
       "    <tr>\n",
       "      <th>3</th>\n",
       "      <td>-0.775689</td>\n",
       "      <td>0.392103</td>\n",
       "      <td>1.399791</td>\n",
       "      <td>0.621080</td>\n",
       "      <td>1.154324</td>\n",
       "      <td>-0.990371</td>\n",
       "      <td>0.721690</td>\n",
       "      <td>2.203019</td>\n",
       "      <td>-1.969806</td>\n",
       "      <td>-1.415226</td>\n",
       "      <td>-0.008364</td>\n",
       "      <td>-5.457546</td>\n",
       "    </tr>\n",
       "    <tr>\n",
       "      <th>4</th>\n",
       "      <td>-0.100384</td>\n",
       "      <td>0.392103</td>\n",
       "      <td>1.023711</td>\n",
       "      <td>1.211335</td>\n",
       "      <td>1.557819</td>\n",
       "      <td>-0.990371</td>\n",
       "      <td>-0.784335</td>\n",
       "      <td>2.203019</td>\n",
       "      <td>0.391304</td>\n",
       "      <td>-1.415226</td>\n",
       "      <td>-0.008364</td>\n",
       "      <td>0.254062</td>\n",
       "    </tr>\n",
       "    <tr>\n",
       "      <th>...</th>\n",
       "      <td>...</td>\n",
       "      <td>...</td>\n",
       "      <td>...</td>\n",
       "      <td>...</td>\n",
       "      <td>...</td>\n",
       "      <td>...</td>\n",
       "      <td>...</td>\n",
       "      <td>...</td>\n",
       "      <td>...</td>\n",
       "      <td>...</td>\n",
       "      <td>...</td>\n",
       "      <td>...</td>\n",
       "    </tr>\n",
       "    <tr>\n",
       "      <th>31456</th>\n",
       "      <td>-0.850723</td>\n",
       "      <td>0.392103</td>\n",
       "      <td>0.814728</td>\n",
       "      <td>0.030825</td>\n",
       "      <td>0.750829</td>\n",
       "      <td>-0.990371</td>\n",
       "      <td>1.474703</td>\n",
       "      <td>2.203019</td>\n",
       "      <td>0.391304</td>\n",
       "      <td>-1.415226</td>\n",
       "      <td>-0.187309</td>\n",
       "      <td>0.254062</td>\n",
       "    </tr>\n",
       "    <tr>\n",
       "      <th>31457</th>\n",
       "      <td>0.124718</td>\n",
       "      <td>0.392103</td>\n",
       "      <td>-0.143169</td>\n",
       "      <td>-1.149684</td>\n",
       "      <td>-0.459657</td>\n",
       "      <td>-0.990371</td>\n",
       "      <td>-0.031323</td>\n",
       "      <td>-0.903178</td>\n",
       "      <td>0.391304</td>\n",
       "      <td>0.706601</td>\n",
       "      <td>-0.008364</td>\n",
       "      <td>0.254062</td>\n",
       "    </tr>\n",
       "    <tr>\n",
       "      <th>31458</th>\n",
       "      <td>1.475327</td>\n",
       "      <td>0.392103</td>\n",
       "      <td>-0.170768</td>\n",
       "      <td>-1.149684</td>\n",
       "      <td>-0.459657</td>\n",
       "      <td>0.147158</td>\n",
       "      <td>-1.537348</td>\n",
       "      <td>1.581780</td>\n",
       "      <td>0.391304</td>\n",
       "      <td>-1.415226</td>\n",
       "      <td>-0.008364</td>\n",
       "      <td>0.254062</td>\n",
       "    </tr>\n",
       "    <tr>\n",
       "      <th>31459</th>\n",
       "      <td>-1.225892</td>\n",
       "      <td>0.392103</td>\n",
       "      <td>0.335900</td>\n",
       "      <td>-1.149684</td>\n",
       "      <td>-0.459657</td>\n",
       "      <td>1.284688</td>\n",
       "      <td>-1.537348</td>\n",
       "      <td>0.960541</td>\n",
       "      <td>0.391304</td>\n",
       "      <td>0.706601</td>\n",
       "      <td>-1.797814</td>\n",
       "      <td>0.254062</td>\n",
       "    </tr>\n",
       "    <tr>\n",
       "      <th>31460</th>\n",
       "      <td>1.025124</td>\n",
       "      <td>0.392103</td>\n",
       "      <td>1.048402</td>\n",
       "      <td>-1.149684</td>\n",
       "      <td>-0.459657</td>\n",
       "      <td>-0.990371</td>\n",
       "      <td>-0.784335</td>\n",
       "      <td>2.203019</td>\n",
       "      <td>0.391304</td>\n",
       "      <td>-1.415226</td>\n",
       "      <td>-0.008364</td>\n",
       "      <td>0.254062</td>\n",
       "    </tr>\n",
       "  </tbody>\n",
       "</table>\n",
       "<p>31461 rows × 12 columns</p>\n",
       "</div>"
      ],
      "text/plain": [
       "            Age  Workclass    Fnlwgt  Education  Education_num  \\\n",
       "0      0.875057   0.392103 -1.102052   0.621080       1.154324   \n",
       "1     -0.025350   0.392103  0.464976  -1.149684      -0.459657   \n",
       "2      1.100158   0.392103  0.630260   1.801589      -1.266647   \n",
       "3     -0.775689   0.392103  1.399791   0.621080       1.154324   \n",
       "4     -0.100384   0.392103  1.023711   1.211335       1.557819   \n",
       "...         ...        ...       ...        ...            ...   \n",
       "31456 -0.850723   0.392103  0.814728   0.030825       0.750829   \n",
       "31457  0.124718   0.392103 -0.143169  -1.149684      -0.459657   \n",
       "31458  1.475327   0.392103 -0.170768  -1.149684      -0.459657   \n",
       "31459 -1.225892   0.392103  0.335900  -1.149684      -0.459657   \n",
       "31460  1.025124   0.392103  1.048402  -1.149684      -0.459657   \n",
       "\n",
       "       Marital_status  Occupation  Relationship      Race       Sex  \\\n",
       "0           -0.990371   -0.784335     -0.903178  0.391304  0.706601   \n",
       "1            0.147158   -0.282327     -0.281938  0.391304  0.706601   \n",
       "2           -0.990371   -0.282327     -0.903178 -1.969806  0.706601   \n",
       "3           -0.990371    0.721690      2.203019 -1.969806 -1.415226   \n",
       "4           -0.990371   -0.784335      2.203019  0.391304 -1.415226   \n",
       "...               ...         ...           ...       ...       ...   \n",
       "31456       -0.990371    1.474703      2.203019  0.391304 -1.415226   \n",
       "31457       -0.990371   -0.031323     -0.903178  0.391304  0.706601   \n",
       "31458        0.147158   -1.537348      1.581780  0.391304 -1.415226   \n",
       "31459        1.284688   -1.537348      0.960541  0.391304  0.706601   \n",
       "31460       -0.990371   -0.784335      2.203019  0.391304 -1.415226   \n",
       "\n",
       "       Hours_per_week  Native_country  \n",
       "0           -2.424121        0.254062  \n",
       "1           -0.008364        0.254062  \n",
       "2           -0.008364        0.254062  \n",
       "3           -0.008364       -5.457546  \n",
       "4           -0.008364        0.254062  \n",
       "...               ...             ...  \n",
       "31456       -0.187309        0.254062  \n",
       "31457       -0.008364        0.254062  \n",
       "31458       -0.008364        0.254062  \n",
       "31459       -1.797814        0.254062  \n",
       "31460       -0.008364        0.254062  \n",
       "\n",
       "[31461 rows x 12 columns]"
      ]
     },
     "execution_count": 175,
     "metadata": {},
     "output_type": "execute_result"
    }
   ],
   "source": [
    "scaler = StandardScaler()\n",
    "\n",
    "x = pd.DataFrame(scaler.fit_transform(x), columns = x.columns)\n",
    "\n",
    "x"
   ]
  },
  {
   "cell_type": "markdown",
   "id": "260065e7",
   "metadata": {},
   "source": [
    "As we have seen earlier that the target variable is imbalanced, lets balance it using SMOTE"
   ]
  },
  {
   "cell_type": "markdown",
   "id": "a569c54e",
   "metadata": {},
   "source": [
    "# Oversampling (SMOTE)"
   ]
  },
  {
   "cell_type": "code",
   "execution_count": 178,
   "id": "9f7a84a5",
   "metadata": {},
   "outputs": [],
   "source": [
    "SM = SMOTE()\n",
    "\n",
    "x, y = SM.fit_resample(x,y)"
   ]
  },
  {
   "cell_type": "code",
   "execution_count": 179,
   "id": "ab380ef9",
   "metadata": {},
   "outputs": [
    {
     "data": {
      "text/plain": [
       "0    23853\n",
       "1    23853\n",
       "Name: Income, dtype: int64"
      ]
     },
     "execution_count": 179,
     "metadata": {},
     "output_type": "execute_result"
    }
   ],
   "source": [
    "y.value_counts()"
   ]
  },
  {
   "cell_type": "code",
   "execution_count": 181,
   "id": "b12e3490",
   "metadata": {},
   "outputs": [
    {
     "data": {
      "text/html": [
       "<div>\n",
       "<style scoped>\n",
       "    .dataframe tbody tr th:only-of-type {\n",
       "        vertical-align: middle;\n",
       "    }\n",
       "\n",
       "    .dataframe tbody tr th {\n",
       "        vertical-align: top;\n",
       "    }\n",
       "\n",
       "    .dataframe thead th {\n",
       "        text-align: right;\n",
       "    }\n",
       "</style>\n",
       "<table border=\"1\" class=\"dataframe\">\n",
       "  <thead>\n",
       "    <tr style=\"text-align: right;\">\n",
       "      <th></th>\n",
       "      <th>Age</th>\n",
       "      <th>Workclass</th>\n",
       "      <th>Fnlwgt</th>\n",
       "      <th>Education</th>\n",
       "      <th>Education_num</th>\n",
       "      <th>Marital_status</th>\n",
       "      <th>Occupation</th>\n",
       "      <th>Relationship</th>\n",
       "      <th>Race</th>\n",
       "      <th>Sex</th>\n",
       "      <th>Hours_per_week</th>\n",
       "      <th>Native_country</th>\n",
       "      <th>Income</th>\n",
       "    </tr>\n",
       "  </thead>\n",
       "  <tbody>\n",
       "    <tr>\n",
       "      <th>0</th>\n",
       "      <td>50</td>\n",
       "      <td>1</td>\n",
       "      <td>43.675121</td>\n",
       "      <td>3</td>\n",
       "      <td>13</td>\n",
       "      <td>0</td>\n",
       "      <td>3</td>\n",
       "      <td>0</td>\n",
       "      <td>4</td>\n",
       "      <td>1</td>\n",
       "      <td>13</td>\n",
       "      <td>38</td>\n",
       "      <td>0</td>\n",
       "    </tr>\n",
       "    <tr>\n",
       "      <th>1</th>\n",
       "      <td>38</td>\n",
       "      <td>1</td>\n",
       "      <td>59.967204</td>\n",
       "      <td>0</td>\n",
       "      <td>9</td>\n",
       "      <td>1</td>\n",
       "      <td>5</td>\n",
       "      <td>1</td>\n",
       "      <td>4</td>\n",
       "      <td>1</td>\n",
       "      <td>40</td>\n",
       "      <td>38</td>\n",
       "      <td>0</td>\n",
       "    </tr>\n",
       "    <tr>\n",
       "      <th>2</th>\n",
       "      <td>53</td>\n",
       "      <td>1</td>\n",
       "      <td>61.685627</td>\n",
       "      <td>5</td>\n",
       "      <td>7</td>\n",
       "      <td>0</td>\n",
       "      <td>5</td>\n",
       "      <td>0</td>\n",
       "      <td>2</td>\n",
       "      <td>1</td>\n",
       "      <td>40</td>\n",
       "      <td>38</td>\n",
       "      <td>0</td>\n",
       "    </tr>\n",
       "    <tr>\n",
       "      <th>3</th>\n",
       "      <td>28</td>\n",
       "      <td>1</td>\n",
       "      <td>69.686283</td>\n",
       "      <td>3</td>\n",
       "      <td>13</td>\n",
       "      <td>0</td>\n",
       "      <td>9</td>\n",
       "      <td>5</td>\n",
       "      <td>2</td>\n",
       "      <td>0</td>\n",
       "      <td>40</td>\n",
       "      <td>4</td>\n",
       "      <td>0</td>\n",
       "    </tr>\n",
       "    <tr>\n",
       "      <th>4</th>\n",
       "      <td>37</td>\n",
       "      <td>1</td>\n",
       "      <td>65.776255</td>\n",
       "      <td>4</td>\n",
       "      <td>14</td>\n",
       "      <td>0</td>\n",
       "      <td>3</td>\n",
       "      <td>5</td>\n",
       "      <td>4</td>\n",
       "      <td>0</td>\n",
       "      <td>40</td>\n",
       "      <td>38</td>\n",
       "      <td>0</td>\n",
       "    </tr>\n",
       "  </tbody>\n",
       "</table>\n",
       "</div>"
      ],
      "text/plain": [
       "   Age  Workclass     Fnlwgt  Education  Education_num  Marital_status  \\\n",
       "0   50          1  43.675121          3             13               0   \n",
       "1   38          1  59.967204          0              9               1   \n",
       "2   53          1  61.685627          5              7               0   \n",
       "3   28          1  69.686283          3             13               0   \n",
       "4   37          1  65.776255          4             14               0   \n",
       "\n",
       "   Occupation  Relationship  Race  Sex  Hours_per_week  Native_country  Income  \n",
       "0           3             0     4    1              13              38       0  \n",
       "1           5             1     4    1              40              38       0  \n",
       "2           5             0     2    1              40              38       0  \n",
       "3           9             5     2    0              40               4       0  \n",
       "4           3             5     4    0              40              38       0  "
      ]
     },
     "execution_count": 181,
     "metadata": {},
     "output_type": "execute_result"
    }
   ],
   "source": [
    "new_df.head()"
   ]
  },
  {
   "cell_type": "markdown",
   "id": "60058c11",
   "metadata": {},
   "source": [
    "# Modelling to Find best random state"
   ]
  },
  {
   "cell_type": "code",
   "execution_count": 182,
   "id": "e53fa2f5",
   "metadata": {},
   "outputs": [
    {
     "name": "stdout",
     "output_type": "stream",
     "text": [
      "Best accuracy of 0.8844326439351593 on Random_state 194\n"
     ]
    }
   ],
   "source": [
    "maxAccu = 0\n",
    "\n",
    "maxRS = 0\n",
    "\n",
    "for i in range(1,200):\n",
    "    x_train, x_test, y_train, y_test = train_test_split(x, y, test_size = 0.30, random_state = i)\n",
    "    rfc = RandomForestClassifier()\n",
    "    rfc.fit(x_train,y_train)\n",
    "    pred = rfc.predict(x_test)\n",
    "    acc = accuracy_score(y_test,pred)\n",
    "    if acc > maxAccu:\n",
    "        maxAccu = acc\n",
    "        maxRS = i\n",
    "\n",
    "print('Best accuracy of', maxAccu, 'on Random_state', maxRS)"
   ]
  },
  {
   "cell_type": "markdown",
   "id": "6d3e4300",
   "metadata": {},
   "source": [
    "We got an accuracy score of 88.44% at a random state of 194"
   ]
  },
  {
   "cell_type": "markdown",
   "id": "e39dd223",
   "metadata": {},
   "source": [
    "# Creating Train_Test_Split"
   ]
  },
  {
   "cell_type": "code",
   "execution_count": 183,
   "id": "b1df74c4",
   "metadata": {},
   "outputs": [],
   "source": [
    "x_train, x_test, y_train, y_test = train_test_split(x, y, test_size = 0.30, random_state = maxRS)"
   ]
  },
  {
   "cell_type": "markdown",
   "id": "5f342a93",
   "metadata": {},
   "source": [
    "# Logistic Regression"
   ]
  },
  {
   "cell_type": "code",
   "execution_count": 184,
   "id": "e7df426d",
   "metadata": {},
   "outputs": [
    {
     "name": "stdout",
     "output_type": "stream",
     "text": [
      "0.8019144773616546\n",
      "[[5388 1713]\n",
      " [1122 6089]]\n",
      "              precision    recall  f1-score   support\n",
      "\n",
      "           0       0.83      0.76      0.79      7101\n",
      "           1       0.78      0.84      0.81      7211\n",
      "\n",
      "    accuracy                           0.80     14312\n",
      "   macro avg       0.80      0.80      0.80     14312\n",
      "weighted avg       0.80      0.80      0.80     14312\n",
      "\n"
     ]
    }
   ],
   "source": [
    "log = LogisticRegression()\n",
    "\n",
    "log.fit(x_train,y_train)\n",
    "\n",
    "predlog = log.predict(x_test)\n",
    "\n",
    "print(accuracy_score(y_test, predlog))\n",
    "\n",
    "print(confusion_matrix(y_test, predlog))\n",
    "\n",
    "print(classification_report(y_test, predlog))"
   ]
  },
  {
   "cell_type": "markdown",
   "id": "6ab9378b",
   "metadata": {},
   "source": [
    "We got an accuracy score of 80% with Logistic Regression"
   ]
  },
  {
   "cell_type": "code",
   "execution_count": 185,
   "id": "120aed59",
   "metadata": {},
   "outputs": [
    {
     "data": {
      "image/png": "[encoded data removed]",
      "text/plain": [
       "<Figure size 504x504 with 2 Axes>"
      ]
     },
     "metadata": {
      "needs_background": "light"
     },
     "output_type": "display_data"
    }
   ],
   "source": [
    "# Lets plot confusion matrix for DTC\n",
    "cm = confusion_matrix(y_test,predlog)\n",
    "\n",
    "x_axis_labels = ['0','1']\n",
    "\n",
    "y_axis_labels = ['0','1']\n",
    "\n",
    "f , ax = plt.subplots(figsize = (7,7))\n",
    "\n",
    "sns.heatmap(cm, annot = True, linewidths = 0.2, linecolor = 'black', fmt = '.0f', ax = ax, cmap = 'BuGn', xticklabels =x_axis_labels, yticklabels = y_axis_labels)\n",
    "\n",
    "plt.xlabel('PREDICTED LABEL')\n",
    "\n",
    "plt.ylabel('TRUE LABEL')\n",
    "\n",
    "plt.title('Confusion Matrix for Logistic Regression')\n",
    "\n",
    "plt.show()"
   ]
  },
  {
   "cell_type": "markdown",
   "id": "0e6abb6f",
   "metadata": {},
   "source": [
    "# Decision Tree Classifier"
   ]
  },
  {
   "cell_type": "code",
   "execution_count": 186,
   "id": "6d300600",
   "metadata": {},
   "outputs": [
    {
     "name": "stdout",
     "output_type": "stream",
     "text": [
      "0.8350335382895472\n",
      "[[5893 1208]\n",
      " [1153 6058]]\n",
      "              precision    recall  f1-score   support\n",
      "\n",
      "           0       0.84      0.83      0.83      7101\n",
      "           1       0.83      0.84      0.84      7211\n",
      "\n",
      "    accuracy                           0.84     14312\n",
      "   macro avg       0.84      0.83      0.84     14312\n",
      "weighted avg       0.84      0.84      0.84     14312\n",
      "\n"
     ]
    }
   ],
   "source": [
    "dtc = DecisionTreeClassifier()\n",
    "\n",
    "dtc.fit(x_train,y_train)\n",
    "\n",
    "preddtc = dtc.predict(x_test)\n",
    "\n",
    "print(accuracy_score(y_test, preddtc))\n",
    "\n",
    "print(confusion_matrix(y_test, preddtc))\n",
    "\n",
    "print(classification_report(y_test,preddtc))"
   ]
  },
  {
   "cell_type": "markdown",
   "id": "cde0647c",
   "metadata": {},
   "source": [
    "We got an accuracy score of 84% with this model"
   ]
  },
  {
   "cell_type": "code",
   "execution_count": 188,
   "id": "d9040278",
   "metadata": {},
   "outputs": [
    {
     "data": {
      "image/png": "[encoded data removed]",
      "text/plain": [
       "<Figure size 504x504 with 2 Axes>"
      ]
     },
     "metadata": {
      "needs_background": "light"
     },
     "output_type": "display_data"
    }
   ],
   "source": [
    "# Lets plot confusion matrix for DTC\n",
    "\n",
    "cm = confusion_matrix(y_test, preddtc)\n",
    "\n",
    "x_axis_labels = [\"0\",\"1\"]\n",
    "\n",
    "y_axis_labels = [\"0\",\"1\"]\n",
    "\n",
    "f , ax = plt.subplots(figsize=(7,7))\n",
    "\n",
    "sns.heatmap(cm, annot = True, linewidths = 0.2, linecolor = 'black', fmt = '.0f', ax = ax, cmap = 'BuGn', xticklabels = x_axis_labels, yticklabels = y_axis_labels)\n",
    "\n",
    "plt.xlabel('PREDICTED LABEL')\n",
    "\n",
    "plt.ylabel('TRUE LABEL')\n",
    "\n",
    "plt.title('Confusion Matrix for Decision Tree Classifier')\n",
    "\n",
    "plt.show()"
   ]
  },
  {
   "cell_type": "markdown",
   "id": "23bef63e",
   "metadata": {},
   "source": [
    "# Random Forest Classifier"
   ]
  },
  {
   "cell_type": "code",
   "execution_count": 189,
   "id": "0ac1d453",
   "metadata": {},
   "outputs": [
    {
     "name": "stdout",
     "output_type": "stream",
     "text": [
      "0.8853409726103969\n",
      "[[6175  926]\n",
      " [ 715 6496]]\n",
      "              precision    recall  f1-score   support\n",
      "\n",
      "           0       0.90      0.87      0.88      7101\n",
      "           1       0.88      0.90      0.89      7211\n",
      "\n",
      "    accuracy                           0.89     14312\n",
      "   macro avg       0.89      0.89      0.89     14312\n",
      "weighted avg       0.89      0.89      0.89     14312\n",
      "\n"
     ]
    }
   ],
   "source": [
    "rfc = RandomForestClassifier()\n",
    "\n",
    "rfc.fit(x_train, y_train)\n",
    "\n",
    "predrfc = rfc.predict(x_test)\n",
    "\n",
    "print(accuracy_score(y_test, predrfc))\n",
    "\n",
    "print(confusion_matrix(y_test, predrfc))\n",
    "\n",
    "print(classification_report(y_test,predrfc))"
   ]
  },
  {
   "cell_type": "markdown",
   "id": "477355e4",
   "metadata": {},
   "source": [
    "Getting an accuracy score of 89% with this model"
   ]
  },
  {
   "cell_type": "code",
   "execution_count": 191,
   "id": "8e8f19da",
   "metadata": {},
   "outputs": [
    {
     "data": {
      "image/png": "[encoded data removed]",
      "text/plain": [
       "<Figure size 504x504 with 2 Axes>"
      ]
     },
     "metadata": {
      "needs_background": "light"
     },
     "output_type": "display_data"
    }
   ],
   "source": [
    "# Lets plot confusion matrix for RandomForestClassifier\n",
    "cm = confusion_matrix(y_test,predrfc)\n",
    "\n",
    "x_axis_labels = ['0','1']\n",
    "\n",
    "y_axis_labels = ['0','1']\n",
    "\n",
    "f , ax = plt.subplots(figsize = (7,7))\n",
    "\n",
    "sns.heatmap(cm, annot = True, linewidths = 0.2, linecolor = 'black', fmt = '.0f', ax = ax, cmap = 'BuGn', xticklabels = x_axis_labels, yticklabels= y_axis_labels)\n",
    "\n",
    "plt.xlabel('PREDICTED LABEL')\n",
    "\n",
    "plt.ylabel('TRUE LABEL')\n",
    "\n",
    "plt.title('Confusion Matrix for RandomForestClassifier')\n",
    "\n",
    "plt.show()"
   ]
  },
  {
   "cell_type": "markdown",
   "id": "c346c471",
   "metadata": {},
   "source": [
    "# KNeighbors Classifier"
   ]
  },
  {
   "cell_type": "code",
   "execution_count": 192,
   "id": "5563fbd4",
   "metadata": {},
   "outputs": [
    {
     "name": "stdout",
     "output_type": "stream",
     "text": [
      "0.845653996646171\n",
      "[[5469 1632]\n",
      " [ 577 6634]]\n",
      "              precision    recall  f1-score   support\n",
      "\n",
      "           0       0.90      0.77      0.83      7101\n",
      "           1       0.80      0.92      0.86      7211\n",
      "\n",
      "    accuracy                           0.85     14312\n",
      "   macro avg       0.85      0.85      0.84     14312\n",
      "weighted avg       0.85      0.85      0.84     14312\n",
      "\n"
     ]
    }
   ],
   "source": [
    "# Checking accuracy for KNeighbors Classifier\n",
    "\n",
    "knn = KNN()\n",
    "\n",
    "knn.fit(x_train,y_train)\n",
    "\n",
    "# Prediction\n",
    "predknn = knn.predict(x_test)\n",
    "\n",
    "print(accuracy_score(y_test, predknn))\n",
    "\n",
    "print(confusion_matrix(y_test, predknn))\n",
    "\n",
    "print(classification_report(y_test,predknn))"
   ]
  },
  {
   "cell_type": "markdown",
   "id": "5643b918",
   "metadata": {},
   "source": [
    "Getting an accuacy score of 85% in this model"
   ]
  },
  {
   "cell_type": "code",
   "execution_count": 193,
   "id": "2beb5699",
   "metadata": {},
   "outputs": [
    {
     "data": {
      "image/png": "[encoded data removed]",
      "text/plain": [
       "<Figure size 504x504 with 2 Axes>"
      ]
     },
     "metadata": {
      "needs_background": "light"
     },
     "output_type": "display_data"
    }
   ],
   "source": [
    "# Lets plot confusion matrix for KNN Classifier\n",
    "cm = confusion_matrix(y_test,predknn)\n",
    "\n",
    "x_axis_labels = ['0','1']\n",
    "\n",
    "y_axis_labels = ['0','1']\n",
    "\n",
    "f , ax = plt.subplots(figsize = (7,7))\n",
    "\n",
    "sns.heatmap(cm, annot = True, linewidths = 0.2, linecolor = 'black', fmt = '.0f', ax = ax, cmap = 'BuGn', xticklabels = x_axis_labels, yticklabels = y_axis_labels)\n",
    "\n",
    "plt.xlabel('PREDICTED LABEL')\n",
    "\n",
    "plt.ylabel('TRUE LABEL')\n",
    "\n",
    "plt.title('Confusion Matrix for KNN Classifier')\n",
    "\n",
    "plt.show()"
   ]
  },
  {
   "cell_type": "markdown",
   "id": "db971777",
   "metadata": {},
   "source": [
    "# Xtreme Gradient Boosting Classifier"
   ]
  },
  {
   "cell_type": "code",
   "execution_count": 194,
   "id": "bb9c247f",
   "metadata": {},
   "outputs": [
    {
     "name": "stdout",
     "output_type": "stream",
     "text": [
      "Accuracy Score: 0.8873672442705423\n",
      "Confusion Matrix: [[6283  818]\n",
      " [ 794 6417]]\n",
      "              precision    recall  f1-score   support\n",
      "\n",
      "           0       0.89      0.88      0.89      7101\n",
      "           1       0.89      0.89      0.89      7211\n",
      "\n",
      "    accuracy                           0.89     14312\n",
      "   macro avg       0.89      0.89      0.89     14312\n",
      "weighted avg       0.89      0.89      0.89     14312\n",
      "\n"
     ]
    }
   ],
   "source": [
    "# Check accuracy for XGBClassifier\n",
    "\n",
    "from xgboost import XGBClassifier\n",
    "\n",
    "xgb=XGBClassifier()\n",
    "\n",
    "xgb.fit(x_train,y_train)\n",
    "\n",
    "#Prediction\n",
    "predxgb = xgb.predict(x_test)\n",
    "print('Accuracy Score:', accuracy_score(y_test, predxgb))\n",
    "\n",
    "print('Confusion Matrix:', confusion_matrix(y_test, predxgb))\n",
    "\n",
    "print(classification_report(y_test,predxgb))"
   ]
  },
  {
   "cell_type": "markdown",
   "id": "8e0507f8",
   "metadata": {},
   "source": [
    "Getting an accuracy score of 89% with this model"
   ]
  },
  {
   "cell_type": "code",
   "execution_count": 195,
   "id": "514d6d84",
   "metadata": {},
   "outputs": [
    {
     "data": {
      "image/png": "[encoded data removed]",
      "text/plain": [
       "<Figure size 504x504 with 2 Axes>"
      ]
     },
     "metadata": {
      "needs_background": "light"
     },
     "output_type": "display_data"
    }
   ],
   "source": [
    "# Lets plot confusion matrix for  XGBClassifier\n",
    "cm = confusion_matrix(y_test,predxgb)\n",
    "\n",
    "x_axis_labels = ['0','1']\n",
    "\n",
    "y_axis_labels = ['0','1']\n",
    "\n",
    "f , ax = plt.subplots(figsize = (7,7))\n",
    "sns.heatmap(cm, annot = True, linewidths = 0.2, linecolor = 'black', fmt = '.0f', ax = ax, cmap = 'BuGn', xticklabels = x_axis_labels, yticklabels = y_axis_labels)\n",
    "\n",
    "plt.xlabel('PREDICTED LABEL')\n",
    "\n",
    "plt.ylabel('TRUE LABEL')\n",
    "\n",
    "plt.title('Confusion Matrix for  XGBClassifier')\n",
    "\n",
    "plt.show()"
   ]
  },
  {
   "cell_type": "markdown",
   "id": "6edb740a",
   "metadata": {},
   "source": [
    "# Checking the Cross Validation Score"
   ]
  },
  {
   "cell_type": "code",
   "execution_count": 196,
   "id": "f0f5a2c4",
   "metadata": {},
   "outputs": [
    {
     "name": "stdout",
     "output_type": "stream",
     "text": [
      "0.7953508549221244\n",
      "0.8308197490994695\n",
      "0.8813581803436288\n",
      "0.8490760336678441\n",
      "0.8707108798570372\n"
     ]
    }
   ],
   "source": [
    "# cv score for Logistic Regression Classifier\n",
    "print(cross_val_score(log, x, y, cv = 5).mean())\n",
    "\n",
    "# cv score for Decision Tree Classifier\n",
    "print(cross_val_score(dtc, x, y, cv = 5).mean())\n",
    "\n",
    "# cv score for Random Forest Classifier\n",
    "print(cross_val_score(rfc, x, y, cv = 5).mean())\n",
    "\n",
    "# cv score for KNN Classifier\n",
    "print(cross_val_score(knn, x, y, cv = 5).mean())\n",
    "\n",
    "# cv score for  XGBClassifier\n",
    "print(cross_val_score(xgb, x, y, cv=5).mean())"
   ]
  },
  {
   "cell_type": "markdown",
   "id": "c6679a16",
   "metadata": {},
   "source": [
    "From the model accuracy and cross val accuracy score we see that 'RandomForestClassifier' is the best model"
   ]
  },
  {
   "cell_type": "markdown",
   "id": "e0b4e1c2",
   "metadata": {},
   "source": [
    "# Hyper Parameter Tuning"
   ]
  },
  {
   "cell_type": "code",
   "execution_count": 197,
   "id": "ca36aec5",
   "metadata": {},
   "outputs": [],
   "source": [
    "# Check Random Forest Classifier\n",
    "\n",
    "parameters = {'criterion':['gini'],\n",
    "             'max_features':['auto'],\n",
    "             'n_estimators':[0,200],\n",
    "             'max_depth':[2,3,4,5,6,8]}"
   ]
  },
  {
   "cell_type": "code",
   "execution_count": 198,
   "id": "6d79f4fd",
   "metadata": {},
   "outputs": [],
   "source": [
    "GCV = GridSearchCV(RandomForestClassifier(), parameters, cv = 5)"
   ]
  },
  {
   "cell_type": "code",
   "execution_count": 199,
   "id": "566c9819",
   "metadata": {},
   "outputs": [
    {
     "data": {
      "text/html": [
       "<style>#sk-container-id-2 {color: black;background-color: white;}#sk-container-id-2 pre{padding: 0;}#sk-container-id-2 div.sk-toggleable {background-color: white;}#sk-container-id-2 label.sk-toggleable__label {cursor: pointer;display: block;width: 100%;margin-bottom: 0;padding: 0.3em;box-sizing: border-box;text-align: center;}#sk-container-id-2 label.sk-toggleable__label-arrow:before {content: \"▸\";float: left;margin-right: 0.25em;color: #696969;}#sk-container-id-2 label.sk-toggleable__label-arrow:hover:before {color: black;}#sk-container-id-2 div.sk-estimator:hover label.sk-toggleable__label-arrow:before {color: black;}#sk-container-id-2 div.sk-toggleable__content {max-height: 0;max-width: 0;overflow: hidden;text-align: left;background-color: #f0f8ff;}#sk-container-id-2 div.sk-toggleable__content pre {margin: 0.2em;color: black;border-radius: 0.25em;background-color: #f0f8ff;}#sk-container-id-2 input.sk-toggleable__control:checked~div.sk-toggleable__content {max-height: 200px;max-width: 100%;overflow: auto;}#sk-container-id-2 input.sk-toggleable__control:checked~label.sk-toggleable__label-arrow:before {content: \"▾\";}#sk-container-id-2 div.sk-estimator input.sk-toggleable__control:checked~label.sk-toggleable__label {background-color: #d4ebff;}#sk-container-id-2 div.sk-label input.sk-toggleable__control:checked~label.sk-toggleable__label {background-color: #d4ebff;}#sk-container-id-2 input.sk-hidden--visually {border: 0;clip: rect(1px 1px 1px 1px);clip: rect(1px, 1px, 1px, 1px);height: 1px;margin: -1px;overflow: hidden;padding: 0;position: absolute;width: 1px;}#sk-container-id-2 div.sk-estimator {font-family: monospace;background-color: #f0f8ff;border: 1px dotted black;border-radius: 0.25em;box-sizing: border-box;margin-bottom: 0.5em;}#sk-container-id-2 div.sk-estimator:hover {background-color: #d4ebff;}#sk-container-id-2 div.sk-parallel-item::after {content: \"\";width: 100%;border-bottom: 1px solid gray;flex-grow: 1;}#sk-container-id-2 div.sk-label:hover label.sk-toggleable__label {background-color: #d4ebff;}#sk-container-id-2 div.sk-serial::before {content: \"\";position: absolute;border-left: 1px solid gray;box-sizing: border-box;top: 0;bottom: 0;left: 50%;z-index: 0;}#sk-container-id-2 div.sk-serial {display: flex;flex-direction: column;align-items: center;background-color: white;padding-right: 0.2em;padding-left: 0.2em;position: relative;}#sk-container-id-2 div.sk-item {position: relative;z-index: 1;}#sk-container-id-2 div.sk-parallel {display: flex;align-items: stretch;justify-content: center;background-color: white;position: relative;}#sk-container-id-2 div.sk-item::before, #sk-container-id-2 div.sk-parallel-item::before {content: \"\";position: absolute;border-left: 1px solid gray;box-sizing: border-box;top: 0;bottom: 0;left: 50%;z-index: -1;}#sk-container-id-2 div.sk-parallel-item {display: flex;flex-direction: column;z-index: 1;position: relative;background-color: white;}#sk-container-id-2 div.sk-parallel-item:first-child::after {align-self: flex-end;width: 50%;}#sk-container-id-2 div.sk-parallel-item:last-child::after {align-self: flex-start;width: 50%;}#sk-container-id-2 div.sk-parallel-item:only-child::after {width: 0;}#sk-container-id-2 div.sk-dashed-wrapped {border: 1px dashed gray;margin: 0 0.4em 0.5em 0.4em;box-sizing: border-box;padding-bottom: 0.4em;background-color: white;}#sk-container-id-2 div.sk-label label {font-family: monospace;font-weight: bold;display: inline-block;line-height: 1.2em;}#sk-container-id-2 div.sk-label-container {text-align: center;}#sk-container-id-2 div.sk-container {/* jupyter's `normalize.less` sets `[hidden] { display: none; }` but bootstrap.min.css set `[hidden] { display: none !important; }` so we also need the `!important` here to be able to override the default hidden behavior on the sphinx rendered scikit-learn.org. See: https://github.com/scikit-learn/scikit-learn/issues/21755 */display: inline-block !important;position: relative;}#sk-container-id-2 div.sk-text-repr-fallback {display: none;}</style><div id=\"sk-container-id-2\" class=\"sk-top-container\"><div class=\"sk-text-repr-fallback\"><pre>GridSearchCV(cv=5, estimator=RandomForestClassifier(),\n",
       "             param_grid={&#x27;criterion&#x27;: [&#x27;gini&#x27;], &#x27;max_depth&#x27;: [2, 3, 4, 5, 6, 8],\n",
       "                         &#x27;max_features&#x27;: [&#x27;auto&#x27;], &#x27;n_estimators&#x27;: [0, 200]})</pre><b>In a Jupyter environment, please rerun this cell to show the HTML representation or trust the notebook. <br />On GitHub, the HTML representation is unable to render, please try loading this page with nbviewer.org.</b></div><div class=\"sk-container\" hidden><div class=\"sk-item sk-dashed-wrapped\"><div class=\"sk-label-container\"><div class=\"sk-label sk-toggleable\"><input class=\"sk-toggleable__control sk-hidden--visually\" id=\"sk-estimator-id-4\" type=\"checkbox\" ><label for=\"sk-estimator-id-4\" class=\"sk-toggleable__label sk-toggleable__label-arrow\">GridSearchCV</label><div class=\"sk-toggleable__content\"><pre>GridSearchCV(cv=5, estimator=RandomForestClassifier(),\n",
       "             param_grid={&#x27;criterion&#x27;: [&#x27;gini&#x27;], &#x27;max_depth&#x27;: [2, 3, 4, 5, 6, 8],\n",
       "                         &#x27;max_features&#x27;: [&#x27;auto&#x27;], &#x27;n_estimators&#x27;: [0, 200]})</pre></div></div></div><div class=\"sk-parallel\"><div class=\"sk-parallel-item\"><div class=\"sk-item\"><div class=\"sk-label-container\"><div class=\"sk-label sk-toggleable\"><input class=\"sk-toggleable__control sk-hidden--visually\" id=\"sk-estimator-id-5\" type=\"checkbox\" ><label for=\"sk-estimator-id-5\" class=\"sk-toggleable__label sk-toggleable__label-arrow\">estimator: RandomForestClassifier</label><div class=\"sk-toggleable__content\"><pre>RandomForestClassifier()</pre></div></div></div><div class=\"sk-serial\"><div class=\"sk-item\"><div class=\"sk-estimator sk-toggleable\"><input class=\"sk-toggleable__control sk-hidden--visually\" id=\"sk-estimator-id-6\" type=\"checkbox\" ><label for=\"sk-estimator-id-6\" class=\"sk-toggleable__label sk-toggleable__label-arrow\">RandomForestClassifier</label><div class=\"sk-toggleable__content\"><pre>RandomForestClassifier()</pre></div></div></div></div></div></div></div></div></div></div>"
      ],
      "text/plain": [
       "GridSearchCV(cv=5, estimator=RandomForestClassifier(),\n",
       "             param_grid={'criterion': ['gini'], 'max_depth': [2, 3, 4, 5, 6, 8],\n",
       "                         'max_features': ['auto'], 'n_estimators': [0, 200]})"
      ]
     },
     "execution_count": 199,
     "metadata": {},
     "output_type": "execute_result"
    }
   ],
   "source": [
    "GCV.fit(x_train, y_train)"
   ]
  },
  {
   "cell_type": "code",
   "execution_count": 200,
   "id": "db8105df",
   "metadata": {},
   "outputs": [
    {
     "data": {
      "text/plain": [
       "{'criterion': 'gini',\n",
       " 'max_depth': 8,\n",
       " 'max_features': 'auto',\n",
       " 'n_estimators': 200}"
      ]
     },
     "execution_count": 200,
     "metadata": {},
     "output_type": "execute_result"
    }
   ],
   "source": [
    "GCV.best_params_"
   ]
  },
  {
   "cell_type": "code",
   "execution_count": 201,
   "id": "45768890",
   "metadata": {},
   "outputs": [
    {
     "name": "stdout",
     "output_type": "stream",
     "text": [
      "83.89463387367245\n"
     ]
    }
   ],
   "source": [
    "census = RandomForestClassifier (criterion = 'gini', max_depth = 8, max_features = 'auto', n_estimators = 200)\n",
    "census.fit(x_train, y_train)\n",
    "pred = census.predict(x_test)\n",
    "acc=accuracy_score(y_test,pred)\n",
    "print(acc*100)"
   ]
  },
  {
   "cell_type": "markdown",
   "id": "dd968763",
   "metadata": {},
   "source": [
    "The accuracy of the best model is increased after tuning and is giving 83.89% accuracy."
   ]
  },
  {
   "cell_type": "markdown",
   "id": "9bd661a4",
   "metadata": {},
   "source": [
    "# Plotting ROC and Compare AUC for the best model"
   ]
  },
  {
   "cell_type": "code",
   "execution_count": 202,
   "id": "2bf71c9d",
   "metadata": {},
   "outputs": [
    {
     "data": {
      "image/png": "[encoded data removed]",
      "text/plain": [
       "<Figure size 432x288 with 1 Axes>"
      ]
     },
     "metadata": {
      "needs_background": "light"
     },
     "output_type": "display_data"
    }
   ],
   "source": [
    "# Let's check the Auc for the best model after hyper parameter tuning\n",
    "\n",
    "plot_roc_curve(census, x_test, y_test)\n",
    "\n",
    "plt.title('ROC for the best model')\n",
    "\n",
    "plt.show()"
   ]
  },
  {
   "cell_type": "markdown",
   "id": "042d6ffb",
   "metadata": {},
   "source": [
    "# Saving The Model"
   ]
  },
  {
   "cell_type": "code",
   "execution_count": 203,
   "id": "2ed9f408",
   "metadata": {},
   "outputs": [
    {
     "data": {
      "text/plain": [
       "['Census_Income_Project.pkl']"
      ]
     },
     "execution_count": 203,
     "metadata": {},
     "output_type": "execute_result"
    }
   ],
   "source": [
    "import joblib\n",
    "\n",
    "joblib.dump(census,'Census_Income_Project.pkl')"
   ]
  },
  {
   "cell_type": "code",
   "execution_count": null,
   "id": "6f16a428",
   "metadata": {},
   "outputs": [],
   "source": []
  }
 ],
 "metadata": {
  "kernelspec": {
   "display_name": "Python 3 (ipykernel)",
   "language": "python",
   "name": "python3"
  },
  "language_info": {
   "codemirror_mode": {
    "name": "ipython",
    "version": 3
   },
   "file_extension": ".py",
   "mimetype": "text/x-python",
   "name": "python",
   "nbconvert_exporter": "python",
   "pygments_lexer": "ipython3",
   "version": "3.9.7"
  }
 },
 "nbformat": 4,
 "nbformat_minor": 5
}
